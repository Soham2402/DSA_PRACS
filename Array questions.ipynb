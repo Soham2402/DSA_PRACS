{
 "cells": [
  {
   "cell_type": "markdown",
   "id": "62c85c2e",
   "metadata": {},
   "source": [
    "# 1. Set matrix zeroes\n",
    "Given an m x n integer matrix matrix, if an element is 0, set its entire row and column to 0's.\n",
    "You must do it in place.\n",
    "\n",
    "### Example 1\n",
    "\n",
    "Input: matrix = [[1,1,1],[1,0,1],[1,1,1]]\n",
    "Output: [[1,0,1],[0,0,0],[1,0,1]]\n",
    "<img src = \"https://assets.leetcode.com/uploads/2020/08/17/mat1.jpg\">\n",
    "\n",
    "### Example 2\n",
    "\n",
    "Input: matrix = [[0,1,2,0],[3,4,5,2],[1,3,1,5]]\n",
    "Output: [[0,0,0,0],[0,4,5,0],[0,3,1,0]]\n",
    "<img src = \"https://assets.leetcode.com/uploads/2020/08/17/mat2.jpg\">"
   ]
  },
  {
   "cell_type": "code",
   "execution_count": 1,
   "id": "0e09a990",
   "metadata": {},
   "outputs": [
    {
     "name": "stdout",
     "output_type": "stream",
     "text": [
      "200 ns ± 7.05 ns per loop (mean ± std. dev. of 7 runs, 1,000,000 loops each)\n"
     ]
    }
   ],
   "source": [
    "%%timeit\n",
    "#Time complexity is 0(n2) However the space complexity can be improved\n",
    "\n",
    "def scan_matrix(array):\n",
    "    array_len = len(array)\n",
    "    subarray_len = len(array[0])\n",
    "    \n",
    "    index_array = []\n",
    "    \n",
    "    for i in range(0,array_len):\n",
    "        for j in range(0,subarray_len):\n",
    "            if array[i][j] == 0:\n",
    "                index_array.append((i,j))\n",
    "            j = j + 1\n",
    "        i = i + 1\n",
    "        \n",
    "    for elements in index_array:\n",
    "        array = make_zero(elements[0],elements[1],array)\n",
    "    \n",
    "    return array\n",
    "\n",
    "        \n",
    "def make_zero(i,j,array):\n",
    "    for k in range(0,len(array[0])):\n",
    "        array[i][k] = 0\n",
    "    for k in range(0,len(array)):\n",
    "        array[k][j] = 0\n",
    "    \n",
    "    return array"
   ]
  },
  {
   "cell_type": "markdown",
   "id": "1055b607",
   "metadata": {},
   "source": [
    "# 2. Pascals triangle\n",
    "Given an integer numRows, return the first numRows of Pascal's triangle.\n",
    "In Pascal's triangle, each number is the sum of the two numbers directly above it as shown\n",
    "<img src=\"https://upload.wikimedia.org/wikipedia/commons/0/0d/PascalTriangleAnimated2.gif\">\n",
    "\n",
    "##### Input: numRows = 5\n",
    "##### Output: [[1],[1,1],[1,2,1],[1,3,3,1],[1,4,6,4,1]]"
   ]
  },
  {
   "cell_type": "markdown",
   "id": "761b7ed9",
   "metadata": {},
   "source": [
    "1. Input = an integer whch reperesents the number of subarrays to be produced\n",
    "2. Output = would be an array which holds multiple array where each array represents a row of the pascals triangle"
   ]
  },
  {
   "cell_type": "code",
   "execution_count": 29,
   "id": "0e639696",
   "metadata": {},
   "outputs": [
    {
     "data": {
      "text/plain": [
       "[[1], [1, 1], [1, 2, 1], [1, 3, 3, 1], [1, 4, 6, 4, 1]]"
      ]
     },
     "execution_count": 29,
     "metadata": {},
     "output_type": "execute_result"
    }
   ],
   "source": [
    "def pascals_array(size):\n",
    "    pascals_array = []\n",
    "    \n",
    "    for i in range(1,size+1):\n",
    "        array = [1]*i\n",
    "        for j in range(1,len(array)-1):\n",
    "            array[j]  = pascals_array[i-2][j-1] + pascals_array[i-2][j] \n",
    "        pascals_array.append(array)\n",
    "    return pascals_array\n",
    "\n",
    "pascals_array(5)"
   ]
  },
  {
   "cell_type": "markdown",
   "id": "de69c757",
   "metadata": {},
   "source": [
    "# 3. Next Permutation\n",
    "    You will be given an array, and you have to find the permutation of the array which is just bigger than the current permuation, if the current permutation is the biggest, return the smallest permutation"
   ]
  },
  {
   "cell_type": "markdown",
   "id": "22df1ff4",
   "metadata": {},
   "source": [
    "\n",
    "\n"
   ]
  },
  {
   "cell_type": "code",
   "execution_count": 66,
   "id": "5789537d",
   "metadata": {},
   "outputs": [],
   "source": [
    "def next_perm(array):\n",
    "    found = False\n",
    "    found_index = -1\n",
    "    array_len = len(array)\n",
    "    \n",
    "    for i in range(1,array_len):\n",
    "        next_big = 101\n",
    "        for j in range(i+1,array_len):\n",
    "            if array[j] > array[i] and array[j] < next_big:\n",
    "                next_big = array[j]\n",
    "                found_index = j\n",
    "                found = True\n",
    "        \n",
    "        if found:\n",
    "            while found_index > i+1:\n",
    "                print(found_index)\n",
    "                array[found_index] = array[found_index - 1]\n",
    "                found_index = found_index -1\n",
    "            array[i+1] = array[i]\n",
    "            array[i] = next_big\n",
    "            return array\n",
    "            \n",
    "    if not found:\n",
    "        array = array[::-1]\n",
    "        return array\n",
    "        "
   ]
  },
  {
   "cell_type": "code",
   "execution_count": 68,
   "id": "b1b8ee67",
   "metadata": {},
   "outputs": [
    {
     "name": "stdout",
     "output_type": "stream",
     "text": [
      "5\n",
      "4\n"
     ]
    },
    {
     "data": {
      "text/plain": [
       "[5, 4, 2, 1, 3, 1]"
      ]
     },
     "execution_count": 68,
     "metadata": {},
     "output_type": "execute_result"
    }
   ],
   "source": [
    "next_perm([5,4,1,3,1,2])"
   ]
  },
  {
   "cell_type": "code",
   "execution_count": null,
   "id": "cb62685b",
   "metadata": {},
   "outputs": [],
   "source": []
  },
  {
   "cell_type": "markdown",
   "id": "0e545ff9",
   "metadata": {},
   "source": [
    "# 4. Maximum subarray\n",
    "\n",
    "    Given an integer array nums, find the subarray with the largest sum, and return its sum.\n",
    "    \n",
    "    Input: nums = [-2,1,-3,4,-1,2,1,-5,4]\n",
    "    Output: 6\n",
    "    Explanation: The subarray [4,-1,2,1] has the largest sum 6."
   ]
  },
  {
   "cell_type": "code",
   "execution_count": 45,
   "id": "c5a6f1eb",
   "metadata": {},
   "outputs": [],
   "source": [
    "def max_subarray(array):\n",
    "    \n",
    "    negNum = float('-inf')\n",
    "    isNeg = True\n",
    "    max_sum = float('-inf')\n",
    "    sum_array = 0\n",
    "    \n",
    "    for i in range(0, len(array)):\n",
    "        if array[i] + sum_array > 0:\n",
    "            sum_array+=array[i]\n",
    "            isNeg = False\n",
    "            if sum_array > max_sum:\n",
    "                max_sum = sum_array\n",
    "        \n",
    "        elif isNeg and negNum < array[i]:\n",
    "            negNum = array[i]\n",
    "        \n",
    "        else:\n",
    "            sum_array = 0\n",
    "            \n",
    "    if isNeg:\n",
    "        return negNum\n",
    "            \n",
    "    return max_sum\n",
    "                \n"
   ]
  },
  {
   "cell_type": "code",
   "execution_count": 47,
   "id": "518dedff",
   "metadata": {},
   "outputs": [
    {
     "name": "stdout",
     "output_type": "stream",
     "text": [
      "6\n",
      "1\n",
      "23\n",
      "-1\n",
      "-1\n"
     ]
    }
   ],
   "source": [
    "print(max_subarray([-2,1,-3,4,-1,2,1,-5,4])) #expected out put 6\n",
    "print(max_subarray([1])) #1\n",
    "print(max_subarray([5,4,-1,7,8])) #23\n",
    "print(max_subarray([-1])) #-1\n",
    "print(max_subarray([-2,-4,-5,-1])) #-1"
   ]
  },
  {
   "cell_type": "markdown",
   "id": "aa1d80ff",
   "metadata": {},
   "source": [
    "# 5. Sort Colors\n",
    "\n",
    "\n",
    "Given an array nums with n objects colored red, white, or blue, sort them in-place so that objects of the same color are adjacent, with the colors in the order red, white, and blue.\n",
    "\n",
    "We will use the integers 0, 1, and 2 to represent the color red, white, and blue, respectively.\n",
    "\n",
    "You must solve this problem without using the library's sort function."
   ]
  },
  {
   "cell_type": "code",
   "execution_count": 8,
   "id": "e0e74869",
   "metadata": {},
   "outputs": [
    {
     "data": {
      "text/plain": [
       "False"
      ]
     },
     "execution_count": 8,
     "metadata": {},
     "output_type": "execute_result"
    }
   ],
   "source": [
    "float('-inf') > -10000000000"
   ]
  },
  {
   "cell_type": "markdown",
   "id": "74f38726",
   "metadata": {},
   "source": [
    "# 6. Best Time to Buy and Sell Stock\n",
    "\n",
    "You are given an array prices where prices[i] is the price of a given stock on the ith day.\n",
    "You want to maximize your profit by choosing a single day to buy one stock and choosing a different day in the future to sell that stock.\n",
    "Return the maximum profit you can achieve from this transaction. If you cannot achieve any profit, return 0.\n",
    "\n",
    "    Input: prices = [7,1,5,3,6,4]\n",
    "    Output: 5\n",
    "    . Explanation: Buy on day 2 (price = 1) and sell on day 5 (price = 6), profit = 6-1 = 5.\n",
    "    . Note that buying on day 2 and selling on day 1 is not allowed because you must buy before you sell.\n",
    "    \n",
    "    Input: prices = [7,6,4,3,1]\n",
    "    . Output: 0\n",
    "    . Explanation: In this case, no transactions are done and the max profit = 0."
   ]
  },
  {
   "cell_type": "code",
   "execution_count": 40,
   "id": "d8db4489",
   "metadata": {},
   "outputs": [],
   "source": [
    "def buy_sell(array):\n",
    "    \n",
    "    max_profit = 0\n",
    "    curr_profit = 0\n",
    "    day = 0\n",
    "    buy = array[day]\n",
    "\n",
    "    \n",
    "    while(day < len(array)-1):\n",
    "        \n",
    "        if array[day+1] - buy < 0:\n",
    "            curr_profit = 0\n",
    "            day +=1\n",
    "            buy = array[day]\n",
    "            continue\n",
    "            \n",
    "        \n",
    "        elif array[day+1] - buy > 0:\n",
    "            curr_profit = array[day+1] - buy\n",
    "            \n",
    "            if curr_profit > max_profit:\n",
    "                max_profit = curr_profit\n",
    "                \n",
    "                \n",
    "        day = day + 1\n",
    "        \n",
    "    return max_profit\n",
    "            "
   ]
  },
  {
   "cell_type": "code",
   "execution_count": 44,
   "id": "d3b16eab",
   "metadata": {},
   "outputs": [
    {
     "name": "stdout",
     "output_type": "stream",
     "text": [
      "5\n",
      "0\n",
      "0\n",
      "9\n",
      "9\n"
     ]
    }
   ],
   "source": [
    "print(buy_sell([7,1,5,3,6,4])) #5\n",
    "print(buy_sell([7,6,4,3,1])) #0\n",
    "print(buy_sell([7])) #0\n",
    "print(buy_sell([7,6,4,3,1,10])) #9\n",
    "print(buy_sell([1,7,6,4,3,1,10])) #0"
   ]
  },
  {
   "cell_type": "markdown",
   "id": "cb1f2ca8",
   "metadata": {},
   "source": [
    "# 7. Rotate array\n",
    "You are given an n x n 2D matrix representing an image, rotate the image by 90 degrees (clockwise).\n",
    "\n",
    "You have to rotate the image in-place, which means you have to modify the input 2D matrix directly. DO NOT allocate another 2D matrix and do the rotation.\n",
    "\n",
    "    Input: matrix = [[1,2,3],[4,5,6],[7,8,9]]\n",
    "    Output: [[7,4,1],[8,5,2],[9,6,3]]\n",
    "\n",
    "<img src = \"https://assets.leetcode.com/uploads/2020/08/28/mat1.jpg\" />\n",
    "\n",
    "    Input: matrix = [[5,1,9,11],[2,4,8,10],[13,3,6,7],[15,14,12,16]]\n",
    "    Output: [[15,13,2,5],[14,3,4,1],[12,6,8,9],[16,7,10,11]]\n",
    "\n",
    "<img src = \"https://assets.leetcode.com/uploads/2020/08/28/mat2.jpg\" />\n",
    "\n"
   ]
  },
  {
   "cell_type": "code",
   "execution_count": 115,
   "id": "2ad43e58",
   "metadata": {},
   "outputs": [],
   "source": [
    "def rotate_array(array):\n",
    "    arr_len = len(array)\n",
    "    dup_array = [[0]*arr_len for i in range(arr_len)]\n",
    "    \n",
    "    for o in range(arr_len):\n",
    "        for i in range(arr_len):\n",
    "            element = array[o][i]\n",
    "            dup_array[i][arr_len-o-1] = element\n",
    "    return dup_array"
   ]
  },
  {
   "cell_type": "code",
   "execution_count": 116,
   "id": "84becb83",
   "metadata": {},
   "outputs": [
    {
     "name": "stdout",
     "output_type": "stream",
     "text": [
      "[[15, 13, 2, 5], [14, 3, 4, 1], [12, 6, 8, 9], [16, 7, 10, 11]]\n",
      "[[7, 4, 1], [8, 5, 2], [9, 6, 3]]\n"
     ]
    }
   ],
   "source": [
    "print(rotate_array([[5,1,9,11],[2,4,8,10],[13,3,6,7],[15,14,12,16]]))\n",
    "print(rotate_array([[1,2,3],[4,5,6],[7,8,9]]))"
   ]
  },
  {
   "cell_type": "code",
   "execution_count": 81,
   "id": "58f1497b",
   "metadata": {},
   "outputs": [
    {
     "data": {
      "text/plain": [
       "[[0, 0, 0], [0, 0, 0], [0, 0, 0]]"
      ]
     },
     "execution_count": 81,
     "metadata": {},
     "output_type": "execute_result"
    }
   ],
   "source": [
    "l = [[0]*3]*3\n",
    "l"
   ]
  },
  {
   "cell_type": "markdown",
   "id": "cc511e6b",
   "metadata": {},
   "source": [
    "## Without using memory\n",
    "    the Basic concept is, we have to make the rows into columns (transpose) and then reverse. We can get the transpose by swapping the elements along the diaagnol"
   ]
  },
  {
   "cell_type": "code",
   "execution_count": 8,
   "id": "9e436d34",
   "metadata": {},
   "outputs": [
    {
     "data": {
      "text/plain": [
       "[[15, 13, 2, 5], [14, 3, 4, 1], [12, 6, 8, 9], [16, 7, 10, 11]]"
      ]
     },
     "execution_count": 8,
     "metadata": {},
     "output_type": "execute_result"
    }
   ],
   "source": [
    "def swap_matrix(array):\n",
    "    array_len = len(array)\n",
    "    counter = 0\n",
    "    for m in range(0,array_len-1):\n",
    "        counter += 1\n",
    "        for n in range(counter, array_len):\n",
    "            temp = array[m][n]\n",
    "            array[m][n] = array[n][m] \n",
    "            array[n][m] = temp\n",
    "            \n",
    "    for i in range(array_len):\n",
    "        x = array[i]\n",
    "        array[i] = x[::-1]\n",
    "    return array\n",
    "\n",
    "swap_matrix([[5,1,9,11],[2,4,8,10],[13,3,6,7],[15,14,12,16]])"
   ]
  },
  {
   "cell_type": "code",
   "execution_count": 5,
   "id": "a033e0e4",
   "metadata": {},
   "outputs": [
    {
     "data": {
      "text/plain": [
       "[15, 13, 2, 5]"
      ]
     },
     "execution_count": 5,
     "metadata": {},
     "output_type": "execute_result"
    }
   ],
   "source": [
    "array = [5, 2, 13, 15]\n",
    "array[::-1]"
   ]
  },
  {
   "cell_type": "markdown",
   "id": "7d8aac16",
   "metadata": {},
   "source": [
    "# 7. Merge intervals\n",
    "You are given an n x n 2D matrix representing an image, rotate the image by 90 degrees (clockwise).\n",
    "\n",
    "You have to rotate the image in-place, which means you have to modify the input 2D matrix directly. DO NOT allocate another 2D matrix and do the rotation.\n",
    "\n",
    "    Input: intervals = [[1,3],[2,6],[8,10],[15,18]]\n",
    "    Output: [[1,6],[8,10],[15,18]]\n",
    "    Explanation: Since intervals [1,3] and [2,6] overlap, merge them into [1,6].\n",
    "\n",
    "    Input: intervals = [[1,4],[4,5]]\n",
    "    Output: [[1,5]]\n",
    "    Explanation: Intervals [1,4] and [4,5] are considered overlapping."
   ]
  },
  {
   "cell_type": "code",
   "execution_count": 35,
   "id": "e3d36d0c",
   "metadata": {},
   "outputs": [
    {
     "data": {
      "text/plain": [
       "[[0, 6], [8, 10], [15, 18]]"
      ]
     },
     "execution_count": 35,
     "metadata": {},
     "output_type": "execute_result"
    }
   ],
   "source": [
    "def merge_intervals(array):\n",
    "    i = 0\n",
    "    array.sort()\n",
    "    while i < len(array)-1:\n",
    "        if array[i][1] >= array[i+1][0]:\n",
    "            array[i] = check_conflict(array[i],array[i+1])\n",
    "            array.pop(i+1)\n",
    "            i = i-1\n",
    "        i+=1\n",
    "\n",
    "    return array\n",
    "\n",
    "\n",
    "\n",
    "def check_conflict(interval_1,interval_2):\n",
    "    if interval_1[1] >= interval_2[1]:\n",
    "        return interval_1\n",
    "    \n",
    "    if interval_1[1] <= interval_2[1]:\n",
    "        first_value = interval_1[0]\n",
    "        second_value = interval_2[1]\n",
    "        return [first_value,second_value]\n",
    "\n",
    "(merge_intervals([[0, 6], [1, 3], [8, 10], [15, 18]]))"
   ]
  },
  {
   "cell_type": "markdown",
   "id": "fa433a4a",
   "metadata": {},
   "source": [
    "  # 8. Merge sorted arrays\n",
    "     You are given two integer arrays nums1 and nums2, sorted in non-decreasing order, and two integers m and n, representing the number of elements in nums1 and nums2 respectively.\n",
    "\n",
    "    Merge nums1 and nums2 into a single array sorted in non-decreasing order.\n",
    "\n",
    "    The final sorted array should not be returned by the function, but instead be stored inside the array nums1. To accommodate this, nums1 has a length of m + n, where the first m elements denote the elements that should be merged, and the last n elements are set to 0 and should be ignored. nums2 has a length of n.\n",
    "    \n",
    "        Input: nums1 = [1,2,3,0,0,0], m = 3, nums2 = [2,5,6], n = 3\n",
    "        Output: [1,2,2,3,5,6]\n",
    "        Explanation: The arrays we are merging are [1,2,3] and [2,5,6].\n",
    "        The result of the merge is [1,2,2,3,5,6] with the underlined elements coming from nums1.\n"
   ]
  },
  {
   "cell_type": "code",
   "execution_count": 68,
   "id": "69381bf0",
   "metadata": {},
   "outputs": [],
   "source": [
    "def merge(nums1, m, nums2, n):\n",
    "    index_nums2 = n-1\n",
    "    index_nums1 = m-1\n",
    "    \n",
    "    array_len = len(nums1)-1\n",
    "    for i in range(array_len,-1,-1):\n",
    "        print(nums1)\n",
    "        if index_nums1 >=0 and index_nums2 >=0 and nums1[index_nums1] >= nums2[index_nums2]:\n",
    "            nums1[i] = nums1[index_nums1]\n",
    "            index_nums1 -= 1\n",
    "\n",
    "        elif index_nums1 >=0 and index_nums2 >=0 and nums1[index_nums1] <= nums2[index_nums2]:\n",
    "            print(index_nums2)\n",
    "            nums1[i] = nums2[index_nums2]\n",
    "            index_nums2 -= 1\n",
    "    \n",
    "    if index_nums2>=0:\n",
    "        for i in range(index_nums2,-1,-1):\n",
    "            nums1[i] = nums2[i]\n",
    "            \n",
    "    return nums1"
   ]
  },
  {
   "cell_type": "code",
   "execution_count": 69,
   "id": "3c7c70cd",
   "metadata": {},
   "outputs": [
    {
     "name": "stdout",
     "output_type": "stream",
     "text": [
      "[0]\n"
     ]
    },
    {
     "data": {
      "text/plain": [
       "[1]"
      ]
     },
     "execution_count": 69,
     "metadata": {},
     "output_type": "execute_result"
    }
   ],
   "source": [
    "merge([0],0, [1], 1)"
   ]
  },
  {
   "cell_type": "code",
   "execution_count": null,
   "id": "61269db3",
   "metadata": {},
   "outputs": [],
   "source": []
  }
 ],
 "metadata": {
  "kernelspec": {
   "display_name": "Python 3 (ipykernel)",
   "language": "python",
   "name": "python3"
  },
  "language_info": {
   "codemirror_mode": {
    "name": "ipython",
    "version": 3
   },
   "file_extension": ".py",
   "mimetype": "text/x-python",
   "name": "python",
   "nbconvert_exporter": "python",
   "pygments_lexer": "ipython3",
   "version": "3.10.12"
  }
 },
 "nbformat": 4,
 "nbformat_minor": 5
}
