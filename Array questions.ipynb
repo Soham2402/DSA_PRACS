{
 "cells": [
  {
   "cell_type": "markdown",
   "id": "62c85c2e",
   "metadata": {},
   "source": [
    "# 1. Set matrix zeroes\n",
    "Given an m x n integer matrix matrix, if an element is 0, set its entire row and column to 0's.\n",
    "You must do it in place.\n",
    "\n",
    "### Example 1\n",
    "\n",
    "Input: matrix = [[1,1,1],[1,0,1],[1,1,1]]\n",
    "Output: [[1,0,1],[0,0,0],[1,0,1]]\n",
    "<img src = \"https://assets.leetcode.com/uploads/2020/08/17/mat1.jpg\">\n",
    "\n",
    "### Example 2\n",
    "\n",
    "Input: matrix = [[0,1,2,0],[3,4,5,2],[1,3,1,5]]\n",
    "Output: [[0,0,0,0],[0,4,5,0],[0,3,1,0]]\n",
    "<img src = \"https://assets.leetcode.com/uploads/2020/08/17/mat2.jpg\">"
   ]
  },
  {
   "cell_type": "code",
   "execution_count": 11,
   "id": "0e09a990",
   "metadata": {},
   "outputs": [
    {
     "name": "stdout",
     "output_type": "stream",
     "text": [
      "208 ns ± 9.78 ns per loop (mean ± std. dev. of 7 runs, 1,000,000 loops each)\n"
     ]
    }
   ],
   "source": [
    "%%timeit\n",
    "#Time complexity is 0(n2) However the space complexity can be improved\n",
    "\n",
    "def scan_matrix(array):\n",
    "    array_len = len(array)\n",
    "    subarray_len = len(array[0])\n",
    "    \n",
    "    index_array = []\n",
    "    \n",
    "    for i in range(0,array_len):\n",
    "        for j in range(0,subarray_len):\n",
    "            if array[i][j] == 0:\n",
    "                index_array.append((i,j))\n",
    "            j = j + 1\n",
    "        i = i + 1\n",
    "        \n",
    "    for elements in index_array:\n",
    "        array = make_zero(elements[0],elements[1],array)\n",
    "    \n",
    "    return array\n",
    "\n",
    "        \n",
    "def make_zero(i,j,array):\n",
    "    for k in range(0,len(array[0])):\n",
    "        array[i][k] = 0\n",
    "    for k in range(0,len(array)):\n",
    "        array[k][j] = 0\n",
    "    \n",
    "    return array"
   ]
  },
  {
   "cell_type": "markdown",
   "id": "1055b607",
   "metadata": {},
   "source": [
    "# 2. Pascals triangle\n",
    "Given an integer numRows, return the first numRows of Pascal's triangle.\n",
    "In Pascal's triangle, each number is the sum of the two numbers directly above it as shown\n",
    "<img src=\"https://upload.wikimedia.org/wikipedia/commons/0/0d/PascalTriangleAnimated2.gif\">\n",
    "\n",
    "##### Input: numRows = 5\n",
    "##### Output: [[1],[1,1],[1,2,1],[1,3,3,1],[1,4,6,4,1]]"
   ]
  },
  {
   "cell_type": "markdown",
   "id": "761b7ed9",
   "metadata": {},
   "source": [
    "1. Input = an integer whch reperesents the number of subarrays to be produced\n",
    "2. Output = would be an array which holds multiple array where each array represents a row of the pascals triangle"
   ]
  },
  {
   "cell_type": "code",
   "execution_count": 29,
   "id": "0e639696",
   "metadata": {},
   "outputs": [
    {
     "data": {
      "text/plain": [
       "[[1], [1, 1], [1, 2, 1], [1, 3, 3, 1], [1, 4, 6, 4, 1]]"
      ]
     },
     "execution_count": 29,
     "metadata": {},
     "output_type": "execute_result"
    }
   ],
   "source": [
    "def pascals_array(size):\n",
    "    pascals_array = []\n",
    "    \n",
    "    for i in range(1,size+1):\n",
    "        array = [1]*i\n",
    "        for j in range(1,len(array)-1):\n",
    "            array[j]  = pascals_array[i-2][j-1] + pascals_array[i-2][j] \n",
    "        pascals_array.append(array)\n",
    "    return pascals_array\n",
    "\n",
    "pascals_array(5)"
   ]
  },
  {
   "cell_type": "markdown",
   "id": "de69c757",
   "metadata": {},
   "source": [
    "# 3. Next Permutation\n",
    "    You will be given an array, and you have to find the permutation of the array which is just bigger than the current permuation, if the current permutation is the biggest, return the smallest permutation"
   ]
  },
  {
   "cell_type": "markdown",
   "id": "22df1ff4",
   "metadata": {},
   "source": [
    "\n",
    "\n"
   ]
  },
  {
   "cell_type": "code",
   "execution_count": 66,
   "id": "5789537d",
   "metadata": {},
   "outputs": [],
   "source": [
    "def next_perm(array):\n",
    "    found = False\n",
    "    found_index = -1\n",
    "    array_len = len(array)\n",
    "    \n",
    "    for i in range(1,array_len):\n",
    "        next_big = 101\n",
    "        for j in range(i+1,array_len):\n",
    "            if array[j] > array[i] and array[j] < next_big:\n",
    "                next_big = array[j]\n",
    "                found_index = j\n",
    "                found = True\n",
    "        \n",
    "        if found:\n",
    "            while found_index > i+1:\n",
    "                print(found_index)\n",
    "                array[found_index] = array[found_index - 1]\n",
    "                found_index = found_index -1\n",
    "            array[i+1] = array[i]\n",
    "            array[i] = next_big\n",
    "            return array\n",
    "            \n",
    "    if not found:\n",
    "        array = array[::-1]\n",
    "        return array\n",
    "        "
   ]
  },
  {
   "cell_type": "code",
   "execution_count": 68,
   "id": "b1b8ee67",
   "metadata": {},
   "outputs": [
    {
     "name": "stdout",
     "output_type": "stream",
     "text": [
      "5\n",
      "4\n"
     ]
    },
    {
     "data": {
      "text/plain": [
       "[5, 4, 2, 1, 3, 1]"
      ]
     },
     "execution_count": 68,
     "metadata": {},
     "output_type": "execute_result"
    }
   ],
   "source": [
    "next_perm([5,4,1,3,1,2])"
   ]
  },
  {
   "cell_type": "code",
   "execution_count": null,
   "id": "cb62685b",
   "metadata": {},
   "outputs": [],
   "source": []
  },
  {
   "cell_type": "markdown",
   "id": "0e545ff9",
   "metadata": {},
   "source": [
    "# 4. Maximum subarray\n",
    "\n",
    "    Given an integer array nums, find the subarray with the largest sum, and return its sum.\n",
    "    \n",
    "    Input: nums = [-2,1,-3,4,-1,2,1,-5,4]\n",
    "    Output: 6\n",
    "    Explanation: The subarray [4,-1,2,1] has the largest sum 6."
   ]
  },
  {
   "cell_type": "code",
   "execution_count": 45,
   "id": "c5a6f1eb",
   "metadata": {},
   "outputs": [],
   "source": [
    "def max_subarray(array):\n",
    "    \n",
    "    negNum = float('-inf')\n",
    "    isNeg = True\n",
    "    max_sum = float('-inf')\n",
    "    sum_array = 0\n",
    "    \n",
    "    for i in range(0, len(array)):\n",
    "        if array[i] + sum_array > 0:\n",
    "            sum_array+=array[i]\n",
    "            isNeg = False\n",
    "            if sum_array > max_sum:\n",
    "                max_sum = sum_array\n",
    "        \n",
    "        elif isNeg and negNum < array[i]:\n",
    "            negNum = array[i]\n",
    "        \n",
    "        else:\n",
    "            sum_array = 0\n",
    "            \n",
    "    if isNeg:\n",
    "        return negNum\n",
    "            \n",
    "    return max_sum\n",
    "                \n"
   ]
  },
  {
   "cell_type": "code",
   "execution_count": 47,
   "id": "518dedff",
   "metadata": {},
   "outputs": [
    {
     "name": "stdout",
     "output_type": "stream",
     "text": [
      "6\n",
      "1\n",
      "23\n",
      "-1\n",
      "-1\n"
     ]
    }
   ],
   "source": [
    "print(max_subarray([-2,1,-3,4,-1,2,1,-5,4])) #expected out put 6\n",
    "print(max_subarray([1])) #1\n",
    "print(max_subarray([5,4,-1,7,8])) #23\n",
    "print(max_subarray([-1])) #-1\n",
    "print(max_subarray([-2,-4,-5,-1])) #-1"
   ]
  },
  {
   "cell_type": "markdown",
   "id": "aa1d80ff",
   "metadata": {},
   "source": [
    "# 5. Sort Colors\n",
    "\n",
    "\n",
    "Given an array nums with n objects colored red, white, or blue, sort them in-place so that objects of the same color are adjacent, with the colors in the order red, white, and blue.\n",
    "\n",
    "We will use the integers 0, 1, and 2 to represent the color red, white, and blue, respectively.\n",
    "\n",
    "You must solve this problem without using the library's sort function."
   ]
  },
  {
   "cell_type": "code",
   "execution_count": 8,
   "id": "e0e74869",
   "metadata": {},
   "outputs": [
    {
     "data": {
      "text/plain": [
       "False"
      ]
     },
     "execution_count": 8,
     "metadata": {},
     "output_type": "execute_result"
    }
   ],
   "source": [
    "float('-inf') > -10000000000"
   ]
  },
  {
   "cell_type": "code",
   "execution_count": null,
   "id": "9099379a",
   "metadata": {},
   "outputs": [],
   "source": []
  },
  {
   "cell_type": "code",
   "execution_count": null,
   "id": "d8db4489",
   "metadata": {},
   "outputs": [],
   "source": []
  },
  {
   "cell_type": "code",
   "execution_count": null,
   "id": "d3b16eab",
   "metadata": {},
   "outputs": [],
   "source": []
  },
  {
   "cell_type": "code",
   "execution_count": null,
   "id": "8b7b2d48",
   "metadata": {},
   "outputs": [],
   "source": []
  },
  {
   "cell_type": "code",
   "execution_count": null,
   "id": "9b9816ac",
   "metadata": {},
   "outputs": [],
   "source": []
  },
  {
   "cell_type": "code",
   "execution_count": null,
   "id": "2ad43e58",
   "metadata": {},
   "outputs": [],
   "source": []
  }
 ],
 "metadata": {
  "kernelspec": {
   "display_name": "Python 3 (ipykernel)",
   "language": "python",
   "name": "python3"
  },
  "language_info": {
   "codemirror_mode": {
    "name": "ipython",
    "version": 3
   },
   "file_extension": ".py",
   "mimetype": "text/x-python",
   "name": "python",
   "nbconvert_exporter": "python",
   "pygments_lexer": "ipython3",
   "version": "3.10.6"
  }
 },
 "nbformat": 4,
 "nbformat_minor": 5
}
