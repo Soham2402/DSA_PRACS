{
 "cells": [
  {
   "cell_type": "markdown",
   "id": "e6d8bc32",
   "metadata": {},
   "source": [
    "## The Method\n",
    "\n",
    "Upon reading the problem, you may get some ideas on how to solve it and your first instinct might be to start writing code. This is not the optimal strategy and you may end up spending a longer time trying to solve the problem due to coding errors, or may not be able to solve it at all.\n",
    "\n",
    "Here's a systematic strategy we'll apply for solving problems:\n",
    "\n",
    "1. State the problem clearly. Identify the input & output formats.\n",
    "2. Come up with some example inputs & outputs. Try to cover all edge cases.\n",
    "3. Come up with a correct solution for the problem. State it in plain English.\n",
    "4. Implement the solution and test it using example inputs. Fix bugs, if any.\n",
    "5. Analyze the algorithm's complexity and identify inefficiencies, if any.\n",
    "6. Apply the right technique to overcome the inefficiency. Repeat steps 3 to 6.\n",
    "\n",
    "_\"Applying the right technique\"_ is where the knowledge of common data structures and algorithms comes in handy. \n",
    "\n",
    "Use this template for solving problems by applying this method: https://jovian.ai/aakashns/python-problem-solving-template"
   ]
  },
  {
   "cell_type": "markdown",
   "id": "e894ca24",
   "metadata": {},
   "source": [
    "### 1. State the problem clearly. Identify the input & output formats.\n",
    "Read the problem 2-3 times and make sure you understand what thr inputs and outputs are.\n",
    "Create an empty function with a proper readable name related to the question same goes for the variable names."
   ]
  },
  {
   "cell_type": "markdown",
   "id": "ac3fb103",
   "metadata": {},
   "source": [
    "### 2. Come up with some example inputs & outputs. Try to cover all edge cases.\n",
    "Spend some time thinking about all the test cases for the question in the form of a dictionary and append them in a list\n",
    "so that it is easy to test\n",
    "\n",
    "test = {input:{parameter1: \"Xyz\", parameter2: \"XYZ\"},output:\"abc\"}\n",
    "\n",
    "Create as many as possible, in an interview create atleast 3 to cover the edge cases. Ask the interviewer incase \n",
    "of some doubts regarding the cases."
   ]
  },
  {
   "cell_type": "markdown",
   "id": "f54d6ba6",
   "metadata": {},
   "source": [
    "### 3. Come up with a correct solution for the problem. State it in plain English.\n",
    "\n",
    "\n",
    "Our first goal should always be to come up with a _correct_ solution to the problem, which may necessarily be the most _efficient_ solution. The simplest or most obvious solution to a problem, which generally involves checking all possible answers is called the _brute force_ solution.\n",
    "\n",
    "Always try to express (speak or write) the algorithm in your own words before you start coding. It can be as brief or detailed as you require it to be. Writing is a great tool for thinking clearly. It's likely that you will find some parts of the solution difficult to express, which suggests that you are probably unable to think about it clearly. The more clearly you are able to express your thoughts, the easier it will be for you to turn into code.\n",
    "\n",
    "Come up with a solution, the solution does not need to cover all the edge cases. Use brute force method and go from there.\n",
    "Test the code and find out whats are the bugs. This will help u down the road\n"
   ]
  },
  {
   "cell_type": "markdown",
   "id": "14790fe6",
   "metadata": {},
   "source": [
    "### 4. Step three\n"
   ]
  },
  {
   "cell_type": "code",
   "execution_count": null,
   "id": "80fae4cc",
   "metadata": {},
   "outputs": [],
   "source": []
  },
  {
   "cell_type": "code",
   "execution_count": null,
   "id": "0b261a0d",
   "metadata": {},
   "outputs": [],
   "source": []
  },
  {
   "cell_type": "code",
   "execution_count": null,
   "id": "b3fb15b3",
   "metadata": {},
   "outputs": [],
   "source": []
  }
 ],
 "metadata": {
  "kernelspec": {
   "display_name": "Python 3 (ipykernel)",
   "language": "python",
   "name": "python3"
  },
  "language_info": {
   "codemirror_mode": {
    "name": "ipython",
    "version": 3
   },
   "file_extension": ".py",
   "mimetype": "text/x-python",
   "name": "python",
   "nbconvert_exporter": "python",
   "pygments_lexer": "ipython3",
   "version": "3.9.5"
  }
 },
 "nbformat": 4,
 "nbformat_minor": 5
}
