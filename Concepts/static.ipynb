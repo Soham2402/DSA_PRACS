{
 "cells": [
  {
   "cell_type": "markdown",
   "id": "d83bd3b5",
   "metadata": {},
   "source": [
    "### Static typing will allow you to have better documentation and readablity of ur code\n",
    "\n",
    "Python is dynamically typed, static typing in python won't force static assignment nature into the language such as in java or c. Instead this is just a best practice for better readablity linting and documentation"
   ]
  },
  {
   "cell_type": "code",
   "execution_count": 6,
   "id": "83cf643c",
   "metadata": {},
   "outputs": [],
   "source": [
    "# Assigning type to a variable\n",
    "\n",
    "name:str = \"Soham\"\n",
    "age:int = 22\n",
    "\n"
   ]
  },
  {
   "cell_type": "markdown",
   "id": "58287e7e",
   "metadata": {},
   "source": [
    "### Complex typing"
   ]
  },
  {
   "cell_type": "code",
   "execution_count": 16,
   "id": "b779fca1",
   "metadata": {},
   "outputs": [
    {
     "data": {
      "text/plain": [
       "{'key': 'value'}"
      ]
     },
     "execution_count": 16,
     "metadata": {},
     "output_type": "execute_result"
    }
   ],
   "source": [
    "from typing import List, Dict\n",
    "\n",
    "list_int: List[List[int]] = [[1,2,3],[4,5,6]]\n",
    "list_int\n",
    "\n",
    "dict_str: Dict[str,str] = {\"key\":\"value\"}\n",
    "dict_str"
   ]
  },
  {
   "cell_type": "markdown",
   "id": "ad611833",
   "metadata": {},
   "source": [
    "### Custom typing"
   ]
  },
  {
   "cell_type": "code",
   "execution_count": 17,
   "id": "fae7616e",
   "metadata": {},
   "outputs": [],
   "source": [
    "Vector = List[float]\n",
    "\n",
    "test:Vector = [1.1,2.2,3.5]"
   ]
  },
  {
   "cell_type": "markdown",
   "id": "26a26897",
   "metadata": {},
   "source": [
    "### However if you want to check if your code is going against the type mentioned,you can use a static code analysis tool. However you have to install it first\n",
    "\n",
    "Now you just have to run your .py file with mypy path_of_python_file"
   ]
  },
  {
   "cell_type": "code",
   "execution_count": 7,
   "id": "05fe2954",
   "metadata": {},
   "outputs": [
    {
     "name": "stdout",
     "output_type": "stream",
     "text": [
      "Defaulting to user installation because normal site-packages is not writeable\n",
      "Collecting mypy\n",
      "  Downloading mypy-1.5.1-cp310-cp310-manylinux_2_17_x86_64.manylinux2014_x86_64.whl (12.1 MB)\n",
      "\u001b[2K     \u001b[38;2;114;156;31m━━━━━━━━━━━━━━━━━━━━━━━━━━━━━━━━━━━━━━━━\u001b[0m \u001b[32m12.1/12.1 MB\u001b[0m \u001b[31m1.7 MB/s\u001b[0m eta \u001b[36m0:00:00\u001b[0mm eta \u001b[36m0:00:01\u001b[0m[36m0:00:01\u001b[0mm\n",
      "\u001b[?25hCollecting mypy-extensions>=1.0.0\n",
      "  Downloading mypy_extensions-1.0.0-py3-none-any.whl (4.7 kB)\n",
      "Requirement already satisfied: tomli>=1.1.0 in /home/soham/.local/lib/python3.10/site-packages (from mypy) (2.0.1)\n",
      "Requirement already satisfied: typing-extensions>=4.1.0 in /home/soham/.local/lib/python3.10/site-packages (from mypy) (4.6.3)\n",
      "Installing collected packages: mypy-extensions, mypy\n",
      "Successfully installed mypy-1.5.1 mypy-extensions-1.0.0\n"
     ]
    }
   ],
   "source": [
    "!pip install mypy"
   ]
  },
  {
   "cell_type": "code",
   "execution_count": 8,
   "id": "f255350d",
   "metadata": {},
   "outputs": [
    {
     "name": "stdout",
     "output_type": "stream",
     "text": [
      "static.ipynb:63: \u001b[1m\u001b[31merror:\u001b[m Name \u001b[m\u001b[1m\"null\"\u001b[m is not defined  \u001b[m\u001b[33m[name-defined]\u001b[m\r\n",
      "\u001b[1m\u001b[31mFound 1 error in 1 file (checked 1 source file)\u001b[m\r\n"
     ]
    }
   ],
   "source": []
  },
  {
   "cell_type": "code",
   "execution_count": null,
   "id": "b0dafc62",
   "metadata": {},
   "outputs": [],
   "source": []
  }
 ],
 "metadata": {
  "kernelspec": {
   "display_name": "Python 3 (ipykernel)",
   "language": "python",
   "name": "python3"
  },
  "language_info": {
   "codemirror_mode": {
    "name": "ipython",
    "version": 3
   },
   "file_extension": ".py",
   "mimetype": "text/x-python",
   "name": "python",
   "nbconvert_exporter": "python",
   "pygments_lexer": "ipython3",
   "version": "3.10.12"
  }
 },
 "nbformat": 4,
 "nbformat_minor": 5
}
