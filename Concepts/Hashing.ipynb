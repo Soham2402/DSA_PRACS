{
 "cells": [
  {
   "cell_type": "markdown",
   "id": "4527295b",
   "metadata": {},
   "source": [
    "# Hashing"
   ]
  },
  {
   "cell_type": "markdown",
   "id": "d27b51b2",
   "metadata": {},
   "source": [
    "#### Input\n",
    "A sample array with random elements\n",
    "Another array who's occurances we have to count\n",
    "#### Output \n",
    "Print the occurances of each element mentioned in the occurances array'"
   ]
  },
  {
   "cell_type": "code",
   "execution_count": 28,
   "id": "5ef4ce6d",
   "metadata": {},
   "outputs": [
    {
     "name": "stdout",
     "output_type": "stream",
     "text": [
      "{'1': 5, '3': 2, '4': 2, '5': 5, '6': 1, '8': 1, '2': 3, '53': 1, '15': 1, '42': 1, '14': 1, '5621': 1, '21': 1}\n",
      "{'1': 5}\n",
      "{'2': 3}\n",
      "{'3': 2}\n",
      "{'4': 2}\n",
      "{'5': 5}\n",
      "{'6': 1}\n",
      "{'5621': 1}\n",
      "{'99': 0}\n",
      "0\n"
     ]
    }
   ],
   "source": [
    "def count_ocur(array,c_array):\n",
    "    counter_dict = {}\n",
    "    for i in array:\n",
    "        try:\n",
    "            counter_dict[i]+=1\n",
    "        except: \n",
    "            counter_dict[i] = 1\n",
    "    print(counter_dict)\n",
    "    return check_array(counter_dict,c_array)\n",
    "\n",
    "\n",
    "def check_array(counter_dick,check_array):\n",
    "    for i in check_array:\n",
    "        try:\n",
    "            element = counter_dick[i]\n",
    "            print({i:element})\n",
    "        except:\n",
    "            print({i:0})\n",
    "    return 0\n",
    "\n",
    "array = ['1','3','4','3','5','1','6','8','2','53','1','15','5','2','5','42','2','14','5','1','5621','1','4','21','5']\n",
    "c_array = ['1','2','3','4','5','6','5621','99']\n",
    "print(count_ocur(array,c_array))"
   ]
  },
  {
   "cell_type": "code",
   "execution_count": 8,
   "id": "7bbd0104",
   "metadata": {},
   "outputs": [
    {
     "data": {
      "text/plain": [
       "1"
      ]
     },
     "execution_count": 8,
     "metadata": {},
     "output_type": "execute_result"
    }
   ],
   "source": [
    "counter_dict = {}\n",
    "try:\n",
    "    counter_dict[1]+=1\n",
    "except:\n",
    "    counter_dict[1] = 1\n",
    "    \n",
    "counter_dict[1]"
   ]
  },
  {
   "cell_type": "code",
   "execution_count": 23,
   "id": "b088e409",
   "metadata": {},
   "outputs": [
    {
     "ename": "ValueError",
     "evalue": "invalid literal for int() with base 10: 'a'",
     "output_type": "error",
     "traceback": [
      "\u001b[0;31m---------------------------------------------------------------------------\u001b[0m",
      "\u001b[0;31mValueError\u001b[0m                                Traceback (most recent call last)",
      "Cell \u001b[0;32mIn[23], line 1\u001b[0m\n\u001b[0;32m----> 1\u001b[0m \u001b[38;5;28;43mint\u001b[39;49m\u001b[43m(\u001b[49m\u001b[38;5;124;43m'\u001b[39;49m\u001b[38;5;124;43ma\u001b[39;49m\u001b[38;5;124;43m'\u001b[39;49m\u001b[43m)\u001b[49m\u001b[38;5;241m-\u001b[39m\u001b[38;5;241m1\u001b[39m\n",
      "\u001b[0;31mValueError\u001b[0m: invalid literal for int() with base 10: 'a'"
     ]
    }
   ],
   "source": [
    "int('a')-1"
   ]
  },
  {
   "cell_type": "code",
   "execution_count": 27,
   "id": "d39da555",
   "metadata": {},
   "outputs": [
    {
     "data": {
      "text/plain": [
       "92"
      ]
     },
     "execution_count": 27,
     "metadata": {},
     "output_type": "execute_result"
    }
   ],
   "source": []
  },
  {
   "cell_type": "code",
   "execution_count": null,
   "id": "0cee1d5a",
   "metadata": {},
   "outputs": [],
   "source": []
  }
 ],
 "metadata": {
  "kernelspec": {
   "display_name": "Python 3 (ipykernel)",
   "language": "python",
   "name": "python3"
  },
  "language_info": {
   "codemirror_mode": {
    "name": "ipython",
    "version": 3
   },
   "file_extension": ".py",
   "mimetype": "text/x-python",
   "name": "python",
   "nbconvert_exporter": "python",
   "pygments_lexer": "ipython3",
   "version": "3.10.6"
  }
 },
 "nbformat": 4,
 "nbformat_minor": 5
}
