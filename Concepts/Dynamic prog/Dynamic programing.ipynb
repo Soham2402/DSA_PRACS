{
 "cells": [
  {
   "cell_type": "code",
   "execution_count": 33,
   "id": "1490c629",
   "metadata": {},
   "outputs": [
    {
     "name": "stdout",
     "output_type": "stream",
     "text": [
      "8\n",
      "13\n"
     ]
    }
   ],
   "source": [
    "from multipledispatch import dispatch\n",
    "\n",
    "class Source:\n",
    "    def __init__(self):\n",
    "        pass\n",
    "    \n",
    "    @dispatch(int,dict)\n",
    "    def fib(self, n:int,memo:dict) -> int:\n",
    "        if n in memo:\n",
    "            return memo[n]\n",
    "        result : int = self.fib(n-1) + self.fib(n-2)\n",
    "        memo[n] = result\n",
    "        return result\n",
    "    \n",
    "    @dispatch(int)\n",
    "    def fib(self,n:int) -> int:\n",
    "        hashmap: dict = {0:0,1:1}\n",
    "        return self.fib(n,hashmap)\n",
    "    \n",
    "\n",
    "    @dispatch(int,dict)\n",
    "    def trib(self, n:int,memo:dict) -> int:\n",
    "        if n in memo:\n",
    "            return memo[n]\n",
    "        result : int = self.trib(n-1) + self.trib(n-2) + self.trib(n-3)\n",
    "        memo[n] = result\n",
    "        return result\n",
    "    \n",
    "    @dispatch(int)\n",
    "    def trib(self,n:int) -> int:\n",
    "        hashmap: dict = {0:0,1:1,2:1}\n",
    "        return self.trib(n,hashmap)\n",
    "    \n",
    "\n",
    "if __name__ == '__main__':\n",
    "    fib_instance = Source()\n",
    "    print(fib_instance.fib(6))\n",
    "    print(fib_instance.trib(6))    "
   ]
  },
  {
   "cell_type": "code",
   "execution_count": 2,
   "id": "97cb27a4",
   "metadata": {},
   "outputs": [
    {
     "data": {
      "text/plain": [
       "{1: 1}"
      ]
     },
     "execution_count": 2,
     "metadata": {},
     "output_type": "execute_result"
    }
   ],
   "source": [
    "x = {1:1}\n",
    "x"
   ]
  },
  {
   "cell_type": "code",
   "execution_count": null,
   "id": "3d1d8c18",
   "metadata": {},
   "outputs": [],
   "source": []
  }
 ],
 "metadata": {
  "kernelspec": {
   "display_name": "Python 3 (ipykernel)",
   "language": "python",
   "name": "python3"
  },
  "language_info": {
   "codemirror_mode": {
    "name": "ipython",
    "version": 3
   },
   "file_extension": ".py",
   "mimetype": "text/x-python",
   "name": "python",
   "nbconvert_exporter": "python",
   "pygments_lexer": "ipython3",
   "version": "3.10.12"
  }
 },
 "nbformat": 4,
 "nbformat_minor": 5
}
