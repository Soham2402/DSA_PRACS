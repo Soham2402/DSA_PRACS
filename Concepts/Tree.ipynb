{
 "cells": [
  {
   "cell_type": "markdown",
   "id": "cd2eb38d-8cc1-4efa-ba89-2a731493e8be",
   "metadata": {},
   "source": [
    "### Tree is a recursive data structure where every single child node is a tree in itself"
   ]
  },
  {
   "cell_type": "code",
   "execution_count": 13,
   "id": "836536b2-bce8-49cf-aace-c944b2921635",
   "metadata": {},
   "outputs": [
    {
     "name": "stdout",
     "output_type": "stream",
     "text": [
      "Child already exists\n",
      "{'products': ['phones', 'telivision', 'laptop']}\n",
      "{'laptop': ['asus', 'dell', 'apple', 'msi']}\n"
     ]
    }
   ],
   "source": [
    "class Tree:\n",
    "    def __init__(self, data):\n",
    "        self.data = data\n",
    "        self.children = []\n",
    "        self.parent = None\n",
    "\n",
    "\n",
    "    def addChild(self, child):\n",
    "        self.parent = self\n",
    "        for i in self.children:\n",
    "            if i == child:\n",
    "                print(\"Child already exists\")\n",
    "                return\n",
    "        return self.children.append(child)\n",
    "\n",
    "    def showTree(self,parent):\n",
    "        if len(parent.children) == 0:\n",
    "            return\n",
    "        else:\n",
    "            print({parent.data:[i.data for i in parent.children]})\n",
    "            for i in parent.children:\n",
    "                self.showTree(i)\n",
    "                \n",
    "\n",
    "products = Tree(\"products\")\n",
    "phone = Tree(\"phones\")\n",
    "tv = Tree(\"telivision\")\n",
    "laptop = Tree(\"laptop\")\n",
    "\n",
    "asus = Tree(\"asus\")\n",
    "dell = Tree(\"dell\")\n",
    "apple = Tree(\"apple\")\n",
    "msi = Tree(\"msi\")\n",
    "\n",
    "\n",
    "\n",
    "products.addChild(phone)\n",
    "products.addChild(tv)\n",
    "products.addChild(laptop)\n",
    "products.addChild(phone)\n",
    "\n",
    "\n",
    "laptop.addChild(asus)\n",
    "laptop.addChild(dell)\n",
    "laptop.addChild(apple)\n",
    "laptop.addChild(msi)\n",
    "\n",
    "\n",
    "products.showTree(products)\n",
    "\n"
   ]
  },
  {
   "cell_type": "markdown",
   "id": "ccf92578-f188-4b1a-9633-1a8ee075a5a6",
   "metadata": {},
   "source": [
    "## Printing the tree with proper indentation/\n"
   ]
  },
  {
   "cell_type": "code",
   "execution_count": 28,
   "id": "9ca39ea8-d5d3-4435-baea-f8b2e5e2e160",
   "metadata": {},
   "outputs": [
    {
     "name": "stdout",
     "output_type": "stream",
     "text": [
      "phone\n",
      "tv\n",
      "laptop\n"
     ]
    }
   ],
   "source": [
    "class Tree:\n",
    "    def __init__(self, data):\n",
    "        self.data = data\n",
    "        self.children = []\n",
    "        self.parent = None\n",
    "\n",
    "\n",
    "    def addChild(self, child):\n",
    "        child.parent = self\n",
    "        for i in self.children:\n",
    "            if i.data == child.data:\n",
    "                print(\"Child already exists\")\n",
    "                return\n",
    "        return self.children.append(child)\n",
    "\n",
    "    def get_depth(self):\n",
    "        depth = 0\n",
    "        while self.parent is not None:\n",
    "            depth += 1\n",
    "            self.parent = self.parent.parent\n",
    "\n",
    "        return depth\n",
    "\n",
    "    def showTree(self,parent):\n",
    "        if len(self.children) == 0:\n",
    "            return\n",
    "        else:\n",
    "            print(parent)\n",
    "            for i in parent.child\n",
    "\n",
    "products = Tree(\"products\")\n",
    "products.addChild(Tree(\"phone\"))\n",
    "products.addChild(Tree(\"tv\"))\n",
    "products.addChild(Tree(\"laptop\"))\n",
    "\n",
    "products.get_depth()\n",
    "\n",
    "products.showTree(products)"
   ]
  },
  {
   "cell_type": "code",
   "execution_count": null,
   "id": "67f705d3-5c2f-4f4a-8c84-34ef5492a77d",
   "metadata": {},
   "outputs": [],
   "source": []
  }
 ],
 "metadata": {
  "kernelspec": {
   "display_name": "Python 3 (ipykernel)",
   "language": "python",
   "name": "python3"
  },
  "language_info": {
   "codemirror_mode": {
    "name": "ipython",
    "version": 3
   },
   "file_extension": ".py",
   "mimetype": "text/x-python",
   "name": "python",
   "nbconvert_exporter": "python",
   "pygments_lexer": "ipython3",
   "version": "3.11.3"
  }
 },
 "nbformat": 4,
 "nbformat_minor": 5
}
