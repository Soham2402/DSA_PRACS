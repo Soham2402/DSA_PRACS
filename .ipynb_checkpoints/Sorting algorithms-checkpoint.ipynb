{
 "cells": [
  {
   "cell_type": "code",
   "execution_count": 3,
   "id": "f2197116",
   "metadata": {},
   "outputs": [],
   "source": [
    "def fact(n):\n",
    "    if n == 0:\n",
    "        return 1\n",
    "    else:\n",
    "        return fact(n-1)*n"
   ]
  },
  {
   "cell_type": "code",
   "execution_count": 4,
   "id": "76720dbb",
   "metadata": {},
   "outputs": [
    {
     "data": {
      "text/plain": [
       "120"
      ]
     },
     "execution_count": 4,
     "metadata": {},
     "output_type": "execute_result"
    }
   ],
   "source": [
    "fact(5)"
   ]
  },
  {
   "cell_type": "markdown",
   "id": "f8353d33",
   "metadata": {},
   "source": [
    "# Selection sort"
   ]
  },
  {
   "cell_type": "code",
   "execution_count": null,
   "id": "8bdf80f9",
   "metadata": {},
   "outputs": [],
   "source": [
    "\n",
    "\n",
    "def selection_sort(arr):\n",
    "    for i in range(0,len(arr)-1):\n",
    "        min_index = i\n",
    "        min_ele = arr[i]\n",
    "        for j in range(i,len(arr)):\n",
    "            if(min_ele > arr[j]):\n",
    "                min_ele = arr[j]\n",
    "                min_index = j\n",
    "        swap(arr,min_ele,min_index)"
   ]
  }
 ],
 "metadata": {
  "kernelspec": {
   "display_name": "Python 3 (ipykernel)",
   "language": "python",
   "name": "python3"
  },
  "language_info": {
   "codemirror_mode": {
    "name": "ipython",
    "version": 3
   },
   "file_extension": ".py",
   "mimetype": "text/x-python",
   "name": "python",
   "nbconvert_exporter": "python",
   "pygments_lexer": "ipython3",
   "version": "3.9.5"
  }
 },
 "nbformat": 4,
 "nbformat_minor": 5
}
