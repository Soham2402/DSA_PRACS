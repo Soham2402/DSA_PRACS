{
 "cells": [
  {
   "cell_type": "markdown",
   "id": "f361ada3",
   "metadata": {},
   "source": [
    "Tree is a collection of entities called nodes linked together to form a hierarchy. It is a non linear data structure, top most node is called a root. \n",
    "Graph is a collection of vertices/nodes and edges. Each node can have any number of edges. It is a non linear ds\n",
    "\n",
    " All trees are graphs. Infact a tree can be said to be a special kind of graph"
   ]
  },
  {
   "cell_type": "markdown",
   "id": "d670ef7d",
   "metadata": {},
   "source": [
    "# Minimum spanning tree"
   ]
  },
  {
   "cell_type": "markdown",
   "id": "19bd1492",
   "metadata": {},
   "source": [
    "In graph theory, a minimum spanning tree (MST) is a subset of the edges of a connected, undirected graph that connects all the vertices together, without any cycles and with the minimum possible total edge weight.\n",
    "\n",
    "The concept of a minimum spanning tree is useful for finding the least expensive way to connect all the nodes in a graph. For example, in a network of computers, a minimum spanning tree would represent the set of connections that would allow all the computers to communicate with each other at the lowest cost.\n",
    "\n",
    "There are several algorithms that can be used to find the minimum spanning tree of a graph, including Kruskal's algorithm and Prim's algorithm. These algorithms typically involve sorting the edges of the graph by weight and then adding them to the MST in a specific order, until all the vertices are connected.\n",
    "\n",
    "It is important to note that there may be multiple minimum spanning trees for a given graph, as there may be multiple sets of edges that achieve the minimum total weight."
   ]
  },
  {
   "cell_type": "code",
   "execution_count": null,
   "id": "939ca2c4",
   "metadata": {},
   "outputs": [],
   "source": []
  },
  {
   "cell_type": "code",
   "execution_count": null,
   "id": "39a1b1dc",
   "metadata": {},
   "outputs": [],
   "source": []
  }
 ],
 "metadata": {
  "kernelspec": {
   "display_name": "Python 3 (ipykernel)",
   "language": "python",
   "name": "python3"
  },
  "language_info": {
   "codemirror_mode": {
    "name": "ipython",
    "version": 3
   },
   "file_extension": ".py",
   "mimetype": "text/x-python",
   "name": "python",
   "nbconvert_exporter": "python",
   "pygments_lexer": "ipython3",
   "version": "3.9.5"
  }
 },
 "nbformat": 4,
 "nbformat_minor": 5
}
