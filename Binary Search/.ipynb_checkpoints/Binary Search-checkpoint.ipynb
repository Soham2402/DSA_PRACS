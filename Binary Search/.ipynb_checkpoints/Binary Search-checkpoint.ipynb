{
 "cells": [
  {
   "cell_type": "markdown",
   "id": "5c55748c",
   "metadata": {},
   "source": [
    "# Problem\n",
    "\n",
    "> We need to write a program to find the position of a given number in a list of numbers arranged in decreasing order. We also need to minimize the number of times we access elements from the list.\n"
   ]
  },
  {
   "cell_type": "markdown",
   "id": "29e3038d",
   "metadata": {},
   "source": [
    "## Step one\n",
    "> ### Read the question and identify the input output formats"
   ]
  },
  {
   "cell_type": "code",
   "execution_count": 14,
   "id": "fbd270f1",
   "metadata": {},
   "outputs": [],
   "source": [
    "cards = [10,9,8,7,6,5,4,3,2,1]\n",
    "query = 7\n",
    "output = 3\n",
    "\n",
    "def find_card(cards,query):\n",
    "    pass"
   ]
  },
  {
   "cell_type": "markdown",
   "id": "0e46ab73",
   "metadata": {},
   "source": [
    "## Step two\n",
    "> ### Thinking about all the edge cases\n",
    "\n",
    "1. Number is not present in the list\n",
    "2. There are repeating numbers in the list\n",
    "3. The list is empty\n",
    "4. The query number is present more than one time"
   ]
  },
  {
   "cell_type": "code",
   "execution_count": 21,
   "id": "c70e101c",
   "metadata": {},
   "outputs": [
    {
     "data": {
      "text/plain": [
       "[{'input': {'cards': [10, 9, 9, 9, 8, 8, 8, 7, 6, 6, 6, 5], 'query': 7},\n",
       "  'output': 7},\n",
       " {'input': {'cards': [10, 9, 8, 7, 6, 5], 'query': 7}, 'output': 3},\n",
       " {'input': {'cards': [], 'query': 7}, 'output': -1},\n",
       " {'input': {'cards': [10, 9, 8, 7, 7, 7, 6, 5], 'query': 7}, 'output': 3}]"
      ]
     },
     "execution_count": 21,
     "metadata": {},
     "output_type": "execute_result"
    }
   ],
   "source": [
    "tests = []\n",
    "\n",
    "testcase1 = {\"input\":{\"cards\":[10,9,8,7,6,5], \"query\": 7},\"output\": 3}\n",
    "testcase2 = {\"input\":{\"cards\":[10,9,9,9,8,8,8,7,6,6,6,5], \"query\": 7},\"output\": 7}\n",
    "testcase3 = {\"input\":{\"cards\":[], \"query\": 7},\"output\": -1}\n",
    "testcase4 = {\"input\":{\"cards\":[10,9,8,7,7,7,6,5], \"query\": 7},\"output\": 3}\n",
    "\n",
    "tests.append(testcase2)\n",
    "tests.append(testcase1)\n",
    "tests.append(testcase3)\n",
    "tests.append(testcase4)\n",
    "tests"
   ]
  },
  {
   "cell_type": "markdown",
   "id": "62863009",
   "metadata": {},
   "source": [
    "## Step three\n",
    "> Coming up with s solution, the solution does not need to cover all the edge cases. Use brute force method and go from there"
   ]
  },
  {
   "cell_type": "code",
   "execution_count": 16,
   "id": "1d845e7c",
   "metadata": {},
   "outputs": [],
   "source": [
    "# we can go through each cards till we find the one requred\n",
    "# create a variable which stores the index, the best case is 0. \n",
    "# Then traverse through the list to find the required query\n",
    "# increment the variable everytime u check the list\n",
    "#If not found exit the function and return 1"
   ]
  },
  {
   "cell_type": "code",
   "execution_count": 26,
   "id": "8e51c326",
   "metadata": {},
   "outputs": [],
   "source": [
    "def find_card(cards,query):\n",
    "    index = 0\n",
    "    for i in cards:\n",
    "        if i == query:\n",
    "            return index\n",
    "        index+=1\n",
    "    return -1\n",
    "          "
   ]
  },
  {
   "cell_type": "code",
   "execution_count": 27,
   "id": "7e92c4a8",
   "metadata": {},
   "outputs": [
    {
     "data": {
      "text/plain": [
       "7"
      ]
     },
     "execution_count": 27,
     "metadata": {},
     "output_type": "execute_result"
    }
   ],
   "source": []
  },
  {
   "cell_type": "code",
   "execution_count": 9,
   "id": "0a4a685d",
   "metadata": {},
   "outputs": [],
   "source": [
    "from jovian.pythondsa import evaluate_test_cases as etcs\n",
    "from jovian.pythondsa import evaluate_test_cases as etc"
   ]
  },
  {
   "cell_type": "code",
   "execution_count": 28,
   "id": "70a32ab7",
   "metadata": {},
   "outputs": [
    {
     "name": "stdout",
     "output_type": "stream",
     "text": [
      "\n",
      "\u001b[1mTEST CASE #0\u001b[0m\n",
      "\n",
      "Input:\n",
      "{'cards': [10, 9, 9, 9, 8, 8, 8, 7, 6, 6, 6, 5], 'query': 7}\n",
      "\n",
      "Expected Output:\n",
      "7\n",
      "\n",
      "\n",
      "Actual Output:\n",
      "7\n",
      "\n",
      "Execution Time:\n",
      "0.007 ms\n",
      "\n",
      "Test Result:\n",
      "\u001b[92mPASSED\u001b[0m\n",
      "\n",
      "\n",
      "\u001b[1mTEST CASE #1\u001b[0m\n",
      "\n",
      "Input:\n",
      "{'cards': [10, 9, 8, 7, 6, 5], 'query': 7}\n",
      "\n",
      "Expected Output:\n",
      "3\n",
      "\n",
      "\n",
      "Actual Output:\n",
      "3\n",
      "\n",
      "Execution Time:\n",
      "0.004 ms\n",
      "\n",
      "Test Result:\n",
      "\u001b[92mPASSED\u001b[0m\n",
      "\n",
      "\n",
      "\u001b[1mTEST CASE #2\u001b[0m\n",
      "\n",
      "Input:\n",
      "{'cards': [], 'query': 7}\n",
      "\n",
      "Expected Output:\n",
      "-1\n",
      "\n",
      "\n",
      "Actual Output:\n",
      "-1\n",
      "\n",
      "Execution Time:\n",
      "0.003 ms\n",
      "\n",
      "Test Result:\n",
      "\u001b[92mPASSED\u001b[0m\n",
      "\n",
      "\n",
      "\u001b[1mTEST CASE #3\u001b[0m\n",
      "\n",
      "Input:\n",
      "{'cards': [10, 9, 8, 7, 7, 7, 6, 5], 'query': 7}\n",
      "\n",
      "Expected Output:\n",
      "3\n",
      "\n",
      "\n",
      "Actual Output:\n",
      "3\n",
      "\n",
      "Execution Time:\n",
      "0.004 ms\n",
      "\n",
      "Test Result:\n",
      "\u001b[92mPASSED\u001b[0m\n",
      "\n",
      "\n",
      "\u001b[1mSUMMARY\u001b[0m\n",
      "\n",
      "TOTAL: 4, \u001b[92mPASSED\u001b[0m: 4, \u001b[91mFAILED\u001b[0m: 0\n"
     ]
    },
    {
     "data": {
      "text/plain": [
       "[(7, True, 0.007), (3, True, 0.004), (-1, True, 0.003), (3, True, 0.004)]"
      ]
     },
     "execution_count": 28,
     "metadata": {},
     "output_type": "execute_result"
    }
   ],
   "source": [
    "etcs(find_card, tests)"
   ]
  },
  {
   "cell_type": "code",
   "execution_count": null,
   "id": "89a3287a",
   "metadata": {},
   "outputs": [
    {
     "data": {
      "application/javascript": [
       "window.require && require([\"base/js/namespace\"],function(Jupyter){Jupyter.notebook.save_checkpoint()})"
      ],
      "text/plain": [
       "<IPython.core.display.Javascript object>"
      ]
     },
     "metadata": {},
     "output_type": "display_data"
    }
   ],
   "source": [
    "import jovian\n",
    "jovian.commit(project=\"Binary search\")"
   ]
  },
  {
   "cell_type": "code",
   "execution_count": null,
   "id": "a227c4ec",
   "metadata": {},
   "outputs": [],
   "source": []
  }
 ],
 "metadata": {
  "kernelspec": {
   "display_name": "Python 3 (ipykernel)",
   "language": "python",
   "name": "python3"
  },
  "language_info": {
   "codemirror_mode": {
    "name": "ipython",
    "version": 3
   },
   "file_extension": ".py",
   "mimetype": "text/x-python",
   "name": "python",
   "nbconvert_exporter": "python",
   "pygments_lexer": "ipython3",
   "version": "3.9.5"
  }
 },
 "nbformat": 4,
 "nbformat_minor": 5
}
