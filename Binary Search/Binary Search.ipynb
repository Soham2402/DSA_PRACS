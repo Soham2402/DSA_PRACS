{
 "cells": [
  {
   "cell_type": "markdown",
   "id": "5c55748c",
   "metadata": {},
   "source": [
    "# Problem\n",
    "\n",
    "> We need to write a program to find the position of a given number in a list of numbers arranged in decreasing order. We also need to minimize the number of times we access elements from the list.\n"
   ]
  },
  {
   "cell_type": "markdown",
   "id": "29e3038d",
   "metadata": {},
   "source": [
    "## Step one\n",
    "> ### Read the question and identify the input output formats"
   ]
  },
  {
   "cell_type": "code",
   "execution_count": 14,
   "id": "fbd270f1",
   "metadata": {},
   "outputs": [],
   "source": [
    "cards = [10,9,8,7,6,5,4,3,2,1]\n",
    "query = 7\n",
    "output = 3\n",
    "\n",
    "def find_card(cards,query):\n",
    "    pass"
   ]
  },
  {
   "cell_type": "markdown",
   "id": "0e46ab73",
   "metadata": {},
   "source": [
    "## Step two\n",
    "> ### Thinking about all the edge cases\n",
    "\n",
    "1. Number is not present in the list\n",
    "2. There are repeating numbers in the list\n",
    "3. The list is empty\n",
    "4. The query number is present more than one time"
   ]
  },
  {
   "cell_type": "code",
   "execution_count": 56,
   "id": "c70e101c",
   "metadata": {},
   "outputs": [
    {
     "data": {
      "text/plain": [
       "[{'input': {'cards': [10, 9, 9, 9, 8, 8, 8, 7, 6, 6, 6, 5], 'query': 7},\n",
       "  'output': 7},\n",
       " {'input': {'cards': [10, 9, 8, 7, 6, 5], 'query': 7}, 'output': 3},\n",
       " {'input': {'cards': [], 'query': 7}, 'output': -1},\n",
       " {'input': {'cards': [10, 9, 8, 7, 7, 7, 6, 5], 'query': 7}, 'output': 3},\n",
       " {'input': {'cards': [10, 6, 6, 6, 6, 6, 4, 2, 2, 2, 1], 'query': 6},\n",
       "  'output': 1},\n",
       " {'input': {'cards': [10, 6, 6, 6, 6, 6, 4, 2, 2, 2, 1], 'query': 2},\n",
       "  'output': 7}]"
      ]
     },
     "execution_count": 56,
     "metadata": {},
     "output_type": "execute_result"
    }
   ],
   "source": [
    "tests = []\n",
    "\n",
    "testcase1 = {\"input\":{\"cards\":[10,9,8,7,6,5], \"query\": 7},\"output\": 3}\n",
    "testcase2 = {\"input\":{\"cards\":[10,9,9,9,8,8,8,7,6,6,6,5], \"query\": 7},\"output\": 7}\n",
    "testcase3 = {\"input\":{\"cards\":[], \"query\": 7},\"output\": -1}\n",
    "testcase4 = {\"input\":{\"cards\":[10,9,8,7,7,7,6,5], \"query\": 7},\"output\": 3}\n",
    "testcase5 = {\"input\":{\"cards\":[10,6,6,6,6,6,4,2,2,2,1], \"query\": 6},\"output\": 1}\n",
    "testcase6 = {\"input\":{\"cards\":[10,6,6,6,6,6,4,2,2,2,1], \"query\": 2},\"output\": 7}\n",
    "\n",
    "\n",
    "tests.append(testcase2)\n",
    "tests.append(testcase1)\n",
    "tests.append(testcase3)\n",
    "tests.append(testcase4)\n",
    "tests.append(testcase5)\n",
    "tests.append(testcase6)\n",
    "tests"
   ]
  },
  {
   "cell_type": "markdown",
   "id": "8a45c5a0",
   "metadata": {},
   "source": [
    "## Step three\n",
    "> Coming up with s solution, the solution does not need to cover all the edge cases. Use brute force method and go from there"
   ]
  },
  {
   "cell_type": "code",
   "execution_count": 16,
   "id": "7c3393c8",
   "metadata": {},
   "outputs": [],
   "source": [
    "# we can go through each cards till we find the one requred\n",
    "# create a variable which stores the index, the best case is 0. \n",
    "# Then traverse through the list to find the required query\n",
    "# increment the variable everytime u check the list\n",
    "#If not found exit the function and return 1"
   ]
  },
  {
   "cell_type": "code",
   "execution_count": 26,
   "id": "8e51c326",
   "metadata": {},
   "outputs": [],
   "source": [
    "def find_card(cards,query):\n",
    "    index = 0\n",
    "    for i in cards:\n",
    "        if i == query:\n",
    "            return index\n",
    "        index+=1\n",
    "    return -1\n",
    "          "
   ]
  },
  {
   "cell_type": "code",
   "execution_count": 27,
   "id": "5707e7c2",
   "metadata": {},
   "outputs": [
    {
     "data": {
      "text/plain": [
       "7"
      ]
     },
     "execution_count": 27,
     "metadata": {},
     "output_type": "execute_result"
    }
   ],
   "source": []
  },
  {
   "cell_type": "code",
   "execution_count": 9,
   "id": "57e7e00a",
   "metadata": {},
   "outputs": [],
   "source": [
    "from jovian.pythondsa import evaluate_test_cases as etcs\n",
    "from jovian.pythondsa import evaluate_test_cases as etc"
   ]
  },
  {
   "cell_type": "code",
   "execution_count": 28,
   "id": "1ed309b9",
   "metadata": {},
   "outputs": [
    {
     "name": "stdout",
     "output_type": "stream",
     "text": [
      "\n",
      "\u001b[1mTEST CASE #0\u001b[0m\n",
      "\n",
      "Input:\n",
      "{'cards': [10, 9, 9, 9, 8, 8, 8, 7, 6, 6, 6, 5], 'query': 7}\n",
      "\n",
      "Expected Output:\n",
      "7\n",
      "\n",
      "\n",
      "Actual Output:\n",
      "7\n",
      "\n",
      "Execution Time:\n",
      "0.007 ms\n",
      "\n",
      "Test Result:\n",
      "\u001b[92mPASSED\u001b[0m\n",
      "\n",
      "\n",
      "\u001b[1mTEST CASE #1\u001b[0m\n",
      "\n",
      "Input:\n",
      "{'cards': [10, 9, 8, 7, 6, 5], 'query': 7}\n",
      "\n",
      "Expected Output:\n",
      "3\n",
      "\n",
      "\n",
      "Actual Output:\n",
      "3\n",
      "\n",
      "Execution Time:\n",
      "0.004 ms\n",
      "\n",
      "Test Result:\n",
      "\u001b[92mPASSED\u001b[0m\n",
      "\n",
      "\n",
      "\u001b[1mTEST CASE #2\u001b[0m\n",
      "\n",
      "Input:\n",
      "{'cards': [], 'query': 7}\n",
      "\n",
      "Expected Output:\n",
      "-1\n",
      "\n",
      "\n",
      "Actual Output:\n",
      "-1\n",
      "\n",
      "Execution Time:\n",
      "0.003 ms\n",
      "\n",
      "Test Result:\n",
      "\u001b[92mPASSED\u001b[0m\n",
      "\n",
      "\n",
      "\u001b[1mTEST CASE #3\u001b[0m\n",
      "\n",
      "Input:\n",
      "{'cards': [10, 9, 8, 7, 7, 7, 6, 5], 'query': 7}\n",
      "\n",
      "Expected Output:\n",
      "3\n",
      "\n",
      "\n",
      "Actual Output:\n",
      "3\n",
      "\n",
      "Execution Time:\n",
      "0.004 ms\n",
      "\n",
      "Test Result:\n",
      "\u001b[92mPASSED\u001b[0m\n",
      "\n",
      "\n",
      "\u001b[1mSUMMARY\u001b[0m\n",
      "\n",
      "TOTAL: 4, \u001b[92mPASSED\u001b[0m: 4, \u001b[91mFAILED\u001b[0m: 0\n"
     ]
    },
    {
     "data": {
      "text/plain": [
       "[(7, True, 0.007), (3, True, 0.004), (-1, True, 0.003), (3, True, 0.004)]"
      ]
     },
     "execution_count": 28,
     "metadata": {},
     "output_type": "execute_result"
    }
   ],
   "source": [
    "etcs(find_card, tests)"
   ]
  },
  {
   "cell_type": "code",
   "execution_count": 30,
   "id": "4ad4f5b9",
   "metadata": {},
   "outputs": [
    {
     "data": {
      "application/javascript": [
       "window.require && require([\"base/js/namespace\"],function(Jupyter){Jupyter.notebook.save_checkpoint()})"
      ],
      "text/plain": [
       "<IPython.core.display.Javascript object>"
      ]
     },
     "metadata": {},
     "output_type": "display_data"
    },
    {
     "name": "stdout",
     "output_type": "stream",
     "text": [
      "[jovian] Please enter your API key ( from https://jovian.ai/ ):\u001b[0m\n",
      "API KEY: ········\n",
      "[jovian] Creating a new project \"sohamhegdessj4/Binary search\"\u001b[0m\n",
      "[jovian] Committed successfully! https://jovian.ai/sohamhegdessj4/binary-search\u001b[0m\n"
     ]
    },
    {
     "data": {
      "text/plain": [
       "'https://jovian.ai/sohamhegdessj4/binary-search'"
      ]
     },
     "execution_count": 30,
     "metadata": {},
     "output_type": "execute_result"
    }
   ],
   "source": [
    "import jovian\n",
    "jovian.commit(project=\"Binary search\")"
   ]
  },
  {
   "cell_type": "markdown",
   "id": "bca747c5",
   "metadata": {},
   "source": [
    "## Better solution using binary search\n",
    "[10, 9, 8, 7, 6, 5]\n",
    "\n",
    "1. Since the elements are in an descending order\n",
    "2. We will check the element in the middle. We will assign (len/2) to a variable\n",
    "3. If the element there is less than the the target variable then we will ignore the elements from this variable\n",
    "4. We will now check the elements from the 0th index to current index\n",
    "5. We will repeat step 2, where the variable will be = curr_index/2\n",
    "6. If the element there is less than the the target variable then we will ignore the elements before this variable and this var\n",
    "we will repeat step 5, where the variable will be last_index+curr_index/"
   ]
  },
  {
   "cell_type": "code",
   "execution_count": 39,
   "id": "fabed0e2",
   "metadata": {},
   "outputs": [],
   "source": [
    "def bin_search(cards,query):\n",
    "    \n",
    "    if len(cards) == 0:\n",
    "        return -1\n",
    "    \n",
    "    index = (len(cards)-1)//2\n",
    "    while True:\n",
    "        if cards[index] == query:\n",
    "            return index\n",
    "        \n",
    "        elif cards[index] < query:\n",
    "            if index == 0:\n",
    "                return -1\n",
    "            index = index//2\n",
    "        \n",
    "        elif cards[index] > query:\n",
    "            if index == len(cards)-1:\n",
    "                return -1\n",
    "            index = ((len(cards)-1)+index)//2\n",
    "        \n",
    "        "
   ]
  },
  {
   "cell_type": "code",
   "execution_count": 40,
   "id": "1a969d2c",
   "metadata": {},
   "outputs": [
    {
     "name": "stdout",
     "output_type": "stream",
     "text": [
      "\n",
      "\u001b[1mTEST CASE #0\u001b[0m\n",
      "\n",
      "Input:\n",
      "{'cards': [10, 9, 9, 9, 8, 8, 8, 7, 6, 6, 6, 5], 'query': 7}\n",
      "\n",
      "Expected Output:\n",
      "7\n",
      "\n",
      "\n",
      "Actual Output:\n",
      "7\n",
      "\n",
      "Execution Time:\n",
      "0.01 ms\n",
      "\n",
      "Test Result:\n",
      "\u001b[92mPASSED\u001b[0m\n",
      "\n",
      "\n",
      "\u001b[1mTEST CASE #1\u001b[0m\n",
      "\n",
      "Input:\n",
      "{'cards': [10, 9, 8, 7, 6, 5], 'query': 7}\n",
      "\n",
      "Expected Output:\n",
      "3\n",
      "\n",
      "\n",
      "Actual Output:\n",
      "3\n",
      "\n",
      "Execution Time:\n",
      "0.005 ms\n",
      "\n",
      "Test Result:\n",
      "\u001b[92mPASSED\u001b[0m\n",
      "\n",
      "\n",
      "\u001b[1mTEST CASE #2\u001b[0m\n",
      "\n",
      "Input:\n",
      "{'cards': [], 'query': 7}\n",
      "\n",
      "Expected Output:\n",
      "-1\n",
      "\n",
      "\n",
      "Actual Output:\n",
      "-1\n",
      "\n",
      "Execution Time:\n",
      "0.004 ms\n",
      "\n",
      "Test Result:\n",
      "\u001b[92mPASSED\u001b[0m\n",
      "\n",
      "\n",
      "\u001b[1mTEST CASE #3\u001b[0m\n",
      "\n",
      "Input:\n",
      "{'cards': [10, 9, 8, 7, 7, 7, 6, 5], 'query': 7}\n",
      "\n",
      "Expected Output:\n",
      "3\n",
      "\n",
      "\n",
      "Actual Output:\n",
      "3\n",
      "\n",
      "Execution Time:\n",
      "0.006 ms\n",
      "\n",
      "Test Result:\n",
      "\u001b[92mPASSED\u001b[0m\n",
      "\n",
      "\n",
      "\u001b[1mSUMMARY\u001b[0m\n",
      "\n",
      "TOTAL: 4, \u001b[92mPASSED\u001b[0m: 4, \u001b[91mFAILED\u001b[0m: 0\n"
     ]
    },
    {
     "data": {
      "text/plain": [
       "[(7, True, 0.01), (3, True, 0.005), (-1, True, 0.004), (3, True, 0.006)]"
      ]
     },
     "execution_count": 40,
     "metadata": {},
     "output_type": "execute_result"
    }
   ],
   "source": [
    "etcs(bin_search,tests)"
   ]
  },
  {
   "cell_type": "markdown",
   "id": "59ff57d2",
   "metadata": {},
   "source": [
    "### Improved version\n",
    "\n",
    "1. Declare 2 variables low and hi\n",
    "2. low will store the starting index and hi will store the ending index (0,len-1 initially)\n",
    "3. now check the middle element by low+high//2\n",
    "4. if the element is smaller than the query decrement the hi to the current index and repeat step 3\n",
    "5. If the element is larger than the query increment hi to the current index and repeat step 3"
   ]
  },
  {
   "cell_type": "code",
   "execution_count": 41,
   "id": "678d8707",
   "metadata": {},
   "outputs": [],
   "source": [
    "def binary_search(cards,query):\n",
    "    start,end = 0, len(cards)-1\n",
    "    \n",
    "    while start<=end:\n",
    "        mid = (start+end)//2\n",
    "        element = cards[mid]\n",
    "        \n",
    "        if element == query:\n",
    "            return mid\n",
    "        elif element > query:\n",
    "            start = mid\n",
    "        else:\n",
    "            end = mid\n",
    "    return -1"
   ]
  },
  {
   "cell_type": "code",
   "execution_count": 45,
   "id": "376248fc",
   "metadata": {},
   "outputs": [
    {
     "name": "stdout",
     "output_type": "stream",
     "text": [
      "\n",
      "\u001b[1mTEST CASE #0\u001b[0m\n",
      "\n",
      "Input:\n",
      "{'cards': [10, 9, 9, 9, 8, 8, 8, 7, 6, 6, 6, 5], 'query': 7}\n",
      "\n",
      "Expected Output:\n",
      "7\n",
      "\n",
      "\n",
      "Actual Output:\n",
      "7\n",
      "\n",
      "Execution Time:\n",
      "0.007 ms\n",
      "\n",
      "Test Result:\n",
      "\u001b[92mPASSED\u001b[0m\n",
      "\n",
      "\n",
      "\u001b[1mTEST CASE #1\u001b[0m\n",
      "\n",
      "Input:\n",
      "{'cards': [10, 9, 8, 7, 6, 5], 'query': 7}\n",
      "\n",
      "Expected Output:\n",
      "3\n",
      "\n",
      "\n",
      "Actual Output:\n",
      "3\n",
      "\n",
      "Execution Time:\n",
      "0.005 ms\n",
      "\n",
      "Test Result:\n",
      "\u001b[92mPASSED\u001b[0m\n",
      "\n",
      "\n",
      "\u001b[1mTEST CASE #2\u001b[0m\n",
      "\n",
      "Input:\n",
      "{'cards': [], 'query': 7}\n",
      "\n",
      "Expected Output:\n",
      "-1\n",
      "\n",
      "\n",
      "Actual Output:\n",
      "-1\n",
      "\n",
      "Execution Time:\n",
      "0.003 ms\n",
      "\n",
      "Test Result:\n",
      "\u001b[92mPASSED\u001b[0m\n",
      "\n",
      "\n",
      "\u001b[1mTEST CASE #3\u001b[0m\n",
      "\n",
      "Input:\n",
      "{'cards': [10, 9, 8, 7, 7, 7, 6, 5], 'query': 7}\n",
      "\n",
      "Expected Output:\n",
      "3\n",
      "\n",
      "\n",
      "Actual Output:\n",
      "3\n",
      "\n",
      "Execution Time:\n",
      "0.003 ms\n",
      "\n",
      "Test Result:\n",
      "\u001b[92mPASSED\u001b[0m\n",
      "\n",
      "\n",
      "\u001b[1mTEST CASE #4\u001b[0m\n",
      "\n",
      "Input:\n",
      "{'cards': [10, 6, 6, 6, 6, 6, 4, 2, 2, 2, 1], 'query': 6}\n",
      "\n",
      "Expected Output:\n",
      "1\n",
      "\n",
      "\n",
      "Actual Output:\n",
      "5\n",
      "\n",
      "Execution Time:\n",
      "0.003 ms\n",
      "\n",
      "Test Result:\n",
      "\u001b[91mFAILED\u001b[0m\n",
      "\n",
      "\n",
      "\u001b[1mSUMMARY\u001b[0m\n",
      "\n",
      "TOTAL: 5, \u001b[92mPASSED\u001b[0m: 4, \u001b[91mFAILED\u001b[0m: 1\n"
     ]
    },
    {
     "data": {
      "text/plain": [
       "[(7, True, 0.007),\n",
       " (3, True, 0.005),\n",
       " (-1, True, 0.003),\n",
       " (3, True, 0.003),\n",
       " (5, False, 0.003)]"
      ]
     },
     "execution_count": 45,
     "metadata": {},
     "output_type": "execute_result"
    }
   ],
   "source": [
    "etcs(binary_search,tests)"
   ]
  },
  {
   "cell_type": "markdown",
   "id": "c3d10abc",
   "metadata": {},
   "source": [
    "### Outlier case, duplicate answers. We have to return the smallest index/\n",
    "\n",
    "1. Declare 2 variables low and hi\n",
    "2. low will store the starting index and hi will store the ending index (0,len-1 initially)\n",
    "3. now check the middle element by low+high//2\n",
    ">  Create a helper function which checks for duplicate value which will accept the array,query and index as inputs\n",
    "     It will check if there's any duplicate value before the current index If there is a duplicate number before, return left else return found\n",
    "4. if the element is smaller than the query decrement the hi to the current index and repeat step 3\n",
    "5. If the element is larger than the query increment hi to the current index and repeat step 3"
   ]
  },
  {
   "cell_type": "code",
   "execution_count": 61,
   "id": "7f97d1cb",
   "metadata": {},
   "outputs": [],
   "source": [
    "def check_res(cards, query, mid):\n",
    "    mid_number = cards[mid]\n",
    "    print(\"mid:\", mid, \", mid_number:\", mid_number)\n",
    "    if mid_number == query:\n",
    "        if mid-1 >= 0 and cards[mid-1] == query:\n",
    "            return 'left'\n",
    "        else:\n",
    "            return 'found'\n",
    "    elif mid_number < query:\n",
    "        return 'left'\n",
    "    else:\n",
    "        return 'right'\n",
    "\n",
    "def binary_search(cards,query):\n",
    "    start,end = 0, len(cards)-1\n",
    "    \n",
    "    while start<=end:\n",
    "        mid = (start+end)//2\n",
    "        element = cards[mid]\n",
    "        result = check_res(cards,query,mid)\n",
    "        \n",
    "        if result == \"found\":\n",
    "            return mid\n",
    "        elif result == \"right\":\n",
    "            start = mid\n",
    "        elif result == \"left\":\n",
    "            end = mid\n",
    "    return -1"
   ]
  },
  {
   "cell_type": "code",
   "execution_count": 62,
   "id": "b689a88d",
   "metadata": {},
   "outputs": [
    {
     "name": "stdout",
     "output_type": "stream",
     "text": [
      "\n",
      "\u001b[1mTEST CASE #0\u001b[0m\n",
      "mid: 5 , mid_number: 8\n",
      "mid: 8 , mid_number: 6\n",
      "mid: 6 , mid_number: 8\n",
      "mid: 7 , mid_number: 7\n",
      "\n",
      "Input:\n",
      "{'cards': [10, 9, 9, 9, 8, 8, 8, 7, 6, 6, 6, 5], 'query': 7}\n",
      "\n",
      "Expected Output:\n",
      "7\n",
      "\n",
      "\n",
      "Actual Output:\n",
      "7\n",
      "\n",
      "Execution Time:\n",
      "0.554 ms\n",
      "\n",
      "Test Result:\n",
      "\u001b[92mPASSED\u001b[0m\n",
      "\n",
      "\n",
      "\u001b[1mTEST CASE #1\u001b[0m\n",
      "mid: 2 , mid_number: 8\n",
      "mid: 3 , mid_number: 7\n",
      "\n",
      "Input:\n",
      "{'cards': [10, 9, 8, 7, 6, 5], 'query': 7}\n",
      "\n",
      "Expected Output:\n",
      "3\n",
      "\n",
      "\n",
      "Actual Output:\n",
      "3\n",
      "\n",
      "Execution Time:\n",
      "0.167 ms\n",
      "\n",
      "Test Result:\n",
      "\u001b[92mPASSED\u001b[0m\n",
      "\n",
      "\n",
      "\u001b[1mTEST CASE #2\u001b[0m\n",
      "\n",
      "Input:\n",
      "{'cards': [], 'query': 7}\n",
      "\n",
      "Expected Output:\n",
      "-1\n",
      "\n",
      "\n",
      "Actual Output:\n",
      "-1\n",
      "\n",
      "Execution Time:\n",
      "0.003 ms\n",
      "\n",
      "Test Result:\n",
      "\u001b[92mPASSED\u001b[0m\n",
      "\n",
      "\n",
      "\u001b[1mTEST CASE #3\u001b[0m\n",
      "mid: 3 , mid_number: 7\n",
      "\n",
      "Input:\n",
      "{'cards': [10, 9, 8, 7, 7, 7, 6, 5], 'query': 7}\n",
      "\n",
      "Expected Output:\n",
      "3\n",
      "\n",
      "\n",
      "Actual Output:\n",
      "3\n",
      "\n",
      "Execution Time:\n",
      "0.084 ms\n",
      "\n",
      "Test Result:\n",
      "\u001b[92mPASSED\u001b[0m\n",
      "\n",
      "\n",
      "\u001b[1mTEST CASE #4\u001b[0m\n",
      "mid: 5 , mid_number: 6\n",
      "mid: 2 , mid_number: 6\n",
      "mid: 1 , mid_number: 6\n",
      "\n",
      "Input:\n",
      "{'cards': [10, 6, 6, 6, 6, 6, 4, 2, 2, 2, 1], 'query': 6}\n",
      "\n",
      "Expected Output:\n",
      "1\n",
      "\n",
      "\n",
      "Actual Output:\n",
      "1\n",
      "\n",
      "Execution Time:\n",
      "0.246 ms\n",
      "\n",
      "Test Result:\n",
      "\u001b[92mPASSED\u001b[0m\n",
      "\n",
      "\n",
      "\u001b[1mTEST CASE #5\u001b[0m\n",
      "mid: 5 , mid_number: 6\n",
      "mid: 7 , mid_number: 2\n",
      "\n",
      "Input:\n",
      "{'cards': [10, 6, 6, 6, 6, 6, 4, 2, 2, 2, 1], 'query': 2}\n",
      "\n",
      "Expected Output:\n",
      "7\n",
      "\n",
      "\n",
      "Actual Output:\n",
      "7\n",
      "\n",
      "Execution Time:\n",
      "0.166 ms\n",
      "\n",
      "Test Result:\n",
      "\u001b[92mPASSED\u001b[0m\n",
      "\n",
      "\n",
      "\u001b[1mSUMMARY\u001b[0m\n",
      "\n",
      "TOTAL: 6, \u001b[92mPASSED\u001b[0m: 6, \u001b[91mFAILED\u001b[0m: 0\n"
     ]
    },
    {
     "data": {
      "text/plain": [
       "[(7, True, 0.554),\n",
       " (3, True, 0.167),\n",
       " (-1, True, 0.003),\n",
       " (3, True, 0.084),\n",
       " (1, True, 0.246),\n",
       " (7, True, 0.166)]"
      ]
     },
     "execution_count": 62,
     "metadata": {},
     "output_type": "execute_result"
    }
   ],
   "source": [
    "etcs(binary_search,tests)"
   ]
  },
  {
   "cell_type": "code",
   "execution_count": null,
   "id": "9a93a27e",
   "metadata": {},
   "outputs": [],
   "source": []
  }
 ],
 "metadata": {
  "kernelspec": {
   "display_name": "Python 3 (ipykernel)",
   "language": "python",
   "name": "python3"
  },
  "language_info": {
   "codemirror_mode": {
    "name": "ipython",
    "version": 3
   },
   "file_extension": ".py",
   "mimetype": "text/x-python",
   "name": "python",
   "nbconvert_exporter": "python",
   "pygments_lexer": "ipython3",
   "version": "3.9.5"
  }
 },
 "nbformat": 4,
 "nbformat_minor": 5
}
