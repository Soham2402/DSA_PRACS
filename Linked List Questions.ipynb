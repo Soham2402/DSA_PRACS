{
 "cells": [
  {
   "cell_type": "code",
   "execution_count": 3,
   "id": "8bb68d26",
   "metadata": {},
   "outputs": [
    {
     "name": "stdout",
     "output_type": "stream",
     "text": [
      "John----> Memory location:<__main__.Node object at 0x7f20ac0b01c0>\n",
      "Ben----> Memory location:None\n",
      "\n",
      "\n",
      "Ben----> Memory location:<__main__.Node object at 0x7f20ac0b1300>\n",
      "John----> Memory location:None\n",
      "\n",
      "\n"
     ]
    }
   ],
   "source": [
    "class Node:\n",
    "    def __init__(self,data):\n",
    "        self.data = data\n",
    "        self.next = None\n",
    "        \n",
    "\n",
    "class LinkedList:\n",
    "    def __init__(self):\n",
    "        self.head = None\n",
    "    \n",
    "    def insertNode(self,node):\n",
    "        if self.head is None:\n",
    "            self.head = node\n",
    "        else:\n",
    "            lastNode = self.head\n",
    "            while lastNode.next is not None:\n",
    "                lastNode = lastNode.next\n",
    "            lastNode.next = node\n",
    "            \n",
    "    def printlist(self):\n",
    "        if self.head is None:\n",
    "            print(\"Linked List is empty\")\n",
    "            return\n",
    "        currentNode = self.head\n",
    "        while True:\n",
    "            if currentNode is None:\n",
    "                break\n",
    "            print(f'{currentNode.data}----> Memory location:{currentNode.next}')\n",
    "            currentNode = currentNode.next\n",
    "        \n",
    "        print('\\n')\n",
    "            \n",
    "            \n",
    "    def reverseList(self):\n",
    "        if self.head is None:\n",
    "            return \"Linked list is empty\"\n",
    "        elif self.head.next is None:\n",
    "            return self.head\n",
    "            \n",
    "        else:\n",
    "            currNode = self.head\n",
    "            referenceNode = None\n",
    "            while True:\n",
    "                nextNode = currNode.next\n",
    "                currNode.next = referenceNode\n",
    "                referenceNode = currNode\n",
    "                \n",
    "                if nextNode is None:\n",
    "                    self.head = currNode\n",
    "                    break\n",
    "                    \n",
    "                currNode = nextNode\n",
    "                \n",
    "        self.printlist()\n",
    "        \n",
    "        \n",
    "        \n",
    "        \n",
    "firstNode = Node(\"John\")\n",
    "linkedlist = LinkedList() #Initializing a linkedlist\n",
    "linkedlist.insertNode(firstNode)\n",
    "secondNode = Node(\"Ben\")\n",
    "linkedlist.insertNode(secondNode)\n",
    "linkedlist.printlist()\n",
    "\n",
    "linkedlist.reverseList()"
   ]
  },
  {
   "cell_type": "markdown",
   "id": "7ae73624",
   "metadata": {},
   "source": [
    "# 1. Reverse a linked list\n",
    "\n",
    "Given the head of a singly linked list, reverse the list, and return the reversed list.\n",
    "\n",
    "    Input: head = [1,2,3,4,5]\n",
    "    Output: [5,4,3,2,1]\n",
    "    \n",
    "    \n",
    "    Input: head = [1,2]\n",
    "    Output: [2,1]\n"
   ]
  },
  {
   "cell_type": "code",
   "execution_count": 4,
   "id": "061e6066",
   "metadata": {},
   "outputs": [
    {
     "data": {
      "text/plain": [
       "[5, 4, 3, 2, 1]"
      ]
     },
     "execution_count": 4,
     "metadata": {},
     "output_type": "execute_result"
    }
   ],
   "source": [
    "x = [1,2,3,4,5]\n",
    "x[::-1]"
   ]
  },
  {
   "cell_type": "code",
   "execution_count": null,
   "id": "9a97501f",
   "metadata": {},
   "outputs": [],
   "source": []
  }
 ],
 "metadata": {
  "kernelspec": {
   "display_name": "Python 3 (ipykernel)",
   "language": "python",
   "name": "python3"
  },
  "language_info": {
   "codemirror_mode": {
    "name": "ipython",
    "version": 3
   },
   "file_extension": ".py",
   "mimetype": "text/x-python",
   "name": "python",
   "nbconvert_exporter": "python",
   "pygments_lexer": "ipython3",
   "version": "3.10.12"
  }
 },
 "nbformat": 4,
 "nbformat_minor": 5
}
