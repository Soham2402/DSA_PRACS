{
 "cells": [
  {
   "cell_type": "code",
   "execution_count": 3,
   "id": "f2197116",
   "metadata": {},
   "outputs": [],
   "source": [
    "def fact(n):\n",
    "    if n == 0:\n",
    "        return 1\n",
    "    else:\n",
    "        return fact(n-1)*n"
   ]
  },
  {
   "cell_type": "code",
   "execution_count": 4,
   "id": "76720dbb",
   "metadata": {},
   "outputs": [
    {
     "data": {
      "text/plain": [
       "120"
      ]
     },
     "execution_count": 4,
     "metadata": {},
     "output_type": "execute_result"
    }
   ],
   "source": [
    "fact(5)"
   ]
  },
  {
   "cell_type": "markdown",
   "id": "efcf06ce",
   "metadata": {},
   "source": [
    "# Selection sort"
   ]
  },
  {
   "cell_type": "code",
   "execution_count": 4,
   "id": "061ea359",
   "metadata": {},
   "outputs": [
    {
     "name": "stdout",
     "output_type": "stream",
     "text": [
      "[1, 2, 3, 4, 5, 7]\n"
     ]
    },
    {
     "data": {
      "text/plain": [
       "[1, 2, 3, 4, 5, 7]"
      ]
     },
     "execution_count": 4,
     "metadata": {},
     "output_type": "execute_result"
    }
   ],
   "source": [
    "def swap(arr,swap_index,min_index):\n",
    "    temp = arr[swap_index]\n",
    "    arr[swap_index] = arr[min_index]\n",
    "    arr[min_index] = temp\n",
    "    return arr\n",
    "\n",
    "def selection_sort(arr):\n",
    "    \n",
    "    #In selecction sort we select the the minimum element from the array and place it first. Now the first index becomes sorted\n",
    "    #In the next pass we will find the next smallest element and place it right next to the previously place element\n",
    "    #Here i represents in the code the number of sorted elements in the array\n",
    "    for i in range(0,len(arr)-1):\n",
    "        min_index = i\n",
    "        min_ele = arr[i]\n",
    "        \n",
    "        #Step 1 select the minimum element from the and its index\n",
    "        for j in range(i,len(arr)):\n",
    "            if(min_ele > arr[j]):\n",
    "                min_ele = arr[j]\n",
    "                min_index = j\n",
    "        #Step 2 Swap the minimum element with the first element of the unsorted part of the array\n",
    "        arr = swap(arr,i,min_index)\n",
    "    print(arr)\n",
    "    return arr\n",
    "        \n",
    "    \n",
    "selection_sort([2,7,4,1,5,3]) #time complexity is O(n^2)"
   ]
  },
  {
   "cell_type": "markdown",
   "id": "cee0d897",
   "metadata": {},
   "source": [
    "#  Bubble sort"
   ]
  },
  {
   "cell_type": "code",
   "execution_count": 4,
   "id": "5d17be80",
   "metadata": {},
   "outputs": [
    {
     "data": {
      "text/plain": [
       "[1, 2, 3, 4, 5, 7]"
      ]
     },
     "execution_count": 4,
     "metadata": {},
     "output_type": "execute_result"
    }
   ],
   "source": [
    "def swap(arr,j):\n",
    "    temp = arr[j]\n",
    "    arr[j] = arr[j+1]\n",
    "    arr[j+1] = temp\n",
    "    return arr\n",
    "\n",
    "\n",
    "def bubble_sort(arr):\n",
    "    #In bubble sort the biggest element ascends to the last index.\n",
    "    # Here i reprsents the number of sorted elements in a away\n",
    "    for i in range(0, len(arr)):\n",
    "        # Sometimes the array can be sorted before all the iterations, this checks if thats the case\n",
    "        is_sorted = True\n",
    "        \n",
    "        #Step 1 Select first element and compare it to the next element\n",
    "        # Step 3 keep doing it till you send the greatest element to the end of the array\n",
    "        for j in range(0, len(arr)-i-1):\n",
    "            if(arr[j] > arr[j+1]):\n",
    "                #Step 2 If its greater then swap the position\n",
    "                arr = swap(arr,j)\n",
    "                is_sorted = False\n",
    "        if is_sorted:\n",
    "            return arr\n",
    "    print(arr)\n",
    "    return arr\n",
    "\n",
    "bubble_sort([2,7,4,1,5,3])"
   ]
  },
  {
   "cell_type": "code",
   "execution_count": null,
   "id": "1edc2f02",
   "metadata": {},
   "outputs": [],
   "source": []
  }
 ],
 "metadata": {
  "kernelspec": {
   "display_name": "Python 3 (ipykernel)",
   "language": "python",
   "name": "python3"
  },
  "language_info": {
   "codemirror_mode": {
    "name": "ipython",
    "version": 3
   },
   "file_extension": ".py",
   "mimetype": "text/x-python",
   "name": "python",
   "nbconvert_exporter": "python",
   "pygments_lexer": "ipython3",
   "version": "3.9.5"
  }
 },
 "nbformat": 4,
 "nbformat_minor": 5
}
