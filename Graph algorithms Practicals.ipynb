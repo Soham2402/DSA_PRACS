{
 "cells": [
  {
   "cell_type": "markdown",
   "id": "59296eac",
   "metadata": {},
   "source": [
    "Tree is a collection of entities called nodes linked together to form a hierarchy. It is a non linear data structure, top most node is called a root. \n",
    "Graph is a collection of vertices/nodes and edges. Each node can have any number of edges. It is a non linear ds\n",
    "\n",
    " All trees are graphs. Infact a tree can be said to be a special kind of graph"
   ]
  },
  {
   "cell_type": "markdown",
   "id": "2fa73021",
   "metadata": {},
   "source": [
    "# Minimum spanning tree"
   ]
  },
  {
   "cell_type": "markdown",
   "id": "654b775b",
   "metadata": {},
   "source": [
    "In graph theory, a minimum spanning tree (MST) is a subset of the edges of a connected, undirected graph that connects all the vertices together, without any cycles and with the minimum possible total edge weight.\n",
    "\n",
    "The concept of a minimum spanning tree is useful for finding the least expensive way to connect all the nodes in a graph. For example, in a network of computers, a minimum spanning tree would represent the set of connections that would allow all the computers to communicate with each other at the lowest cost.\n",
    "\n",
    "There are several algorithms that can be used to find the minimum spanning tree of a graph, including Kruskal's algorithm and Prim's algorithm. These algorithms typically involve sorting the edges of the graph by weight and then adding them to the MST in a specific order, until all the vertices are connected.\n",
    "\n",
    "It is important to note that there may be multiple minimum spanning trees for a given graph, as there may be multiple sets of edges that achieve the minimum total weight."
   ]
  },
  {
   "cell_type": "code",
   "execution_count": 6,
   "id": "e8348d46",
   "metadata": {},
   "outputs": [
    {
     "name": "stdout",
     "output_type": "stream",
     "text": [
      "{'Mumbai': ['Paris', 'Dubai'], 'Paris': ['Dubai', 'New York'], 'Dubai': ['New York'], 'New York': ['Toronto']}\n",
      "[['Mumbai', 'Paris', 'Dubai', 'New York'], ['Mumbai', 'Paris', 'New York'], ['Mumbai', 'Dubai', 'New York']]\n"
     ]
    }
   ],
   "source": [
    "class Graph:\n",
    "    def __init__(self,edges):\n",
    "        self.edges = edges\n",
    "        self.graph_dict = {}\n",
    "        #Here we are converting the input in the form of a graph.Just comment out the print statement to get a better idea\n",
    "        for start, end in self.edges: \n",
    "            if start in self.graph_dict:\n",
    "                self.graph_dict[start].append(end)\n",
    "            else:\n",
    "                self.graph_dict[start] = [end]\n",
    "        print(self.graph_dict)\n",
    "\n",
    "    def get_path(self,start,end,path = []):\n",
    "        path = path + [start]\n",
    "        \n",
    "        #Graphs are recursive, when u build a recursive function always use the most simplest case\n",
    "        #Here the simplest case would be if the start and end destination node being the same.\n",
    "        if start == end:\n",
    "            return [path]\n",
    "        \n",
    "        # The second edge case will be what if the start does not exist \n",
    "        if start not in self.graph_dict:\n",
    "            return []\n",
    "        \n",
    "        all_paths = []\n",
    "        for node in self.graph_dict[start]:\n",
    "            if node not in path:\n",
    "                new_path = self.get_path(node,end,path)\n",
    "            for p in new_path:\n",
    "                all_paths.append(p)\n",
    "            \n",
    "        return all_paths\n",
    "        \n",
    "        \n",
    "        \n",
    "if __name__ == \"__main__\":\n",
    "    routes =   [(\"Mumbai\", \"Paris\") ,\n",
    "                (\"Mumbai\", \"Dubai\"),\n",
    "                (\"Paris\", \"Dubai\"),\n",
    "                (\"Paris\", \"New York\"),\n",
    "                (\"Dubai\", \"New York\"),\n",
    "                (\"New York\", \"Toronto\")\n",
    "    ]\n",
    "    \n",
    "# Creating a graph object\n",
    "route_graph = Graph(routes)\n",
    "start = \"Mumbai\"\n",
    "end = \"New York\"\n",
    "print(route_graph.get_path(start,end))"
   ]
  },
  {
   "cell_type": "markdown",
   "id": "a76cb4f3",
   "metadata": {},
   "source": [
    "Merge sort \n",
    "Insertion sort \n",
    "Prims algorithm \n",
    "Knapsack problem\n",
    "Bellman Ford \n",
    "Travelling salesman"
   ]
  },
  {
   "cell_type": "markdown",
   "id": "ea112e27",
   "metadata": {},
   "source": [
    "# Bellman ford algorithm"
   ]
  },
  {
   "cell_type": "code",
   "execution_count": 23,
   "id": "e9e87c7d",
   "metadata": {},
   "outputs": [
    {
     "name": "stdout",
     "output_type": "stream",
     "text": [
      "[0, inf, 5, 8, 7, 10]\n"
     ]
    }
   ],
   "source": [
    "def bellman_ford(n, edges, source):\n",
    "    # Initialize distances to infinity for all nodes except the source\n",
    "    distances = [float('inf')] * n #Marking all the distances infinity\n",
    "    distances[source] = 0\n",
    "    \n",
    "    # Iterate over all edges n - 1 times\n",
    "    for i in range(n - 1):\n",
    "        # Relax the distances of all edges\n",
    "        for u, v, w in edges:\n",
    "            if distances[u] + w < distances[v]:\n",
    "                distances[v] = distances[u] + w\n",
    "    \n",
    "    # Check for negative weight cycles\n",
    "    for u, v, w in edges:\n",
    "        if distances[u] + w < distances[v]:\n",
    "            raise ValueError(\"Graph contains a negative weight cycle\")\n",
    "    \n",
    "    return distances\n",
    "\n",
    "# Example usage\n",
    "n = 6\n",
    "edges = [(1, 1, 10), (0, 2, 5), (1, 2, 2), (1, 3, 1), (2, 3, 3), (2, 4, 2), (3, 4, 4), (3, 5, 2), (4, 5, 6)]\n",
    "source = 0\n",
    "\n",
    "print(bellman_ford(n, edges, source))\n",
    "# Output: [0, 8, 5, 4, 7, 9]\n"
   ]
  },
  {
   "cell_type": "code",
   "execution_count": 21,
   "id": "a3ef2030",
   "metadata": {},
   "outputs": [
    {
     "name": "stdout",
     "output_type": "stream",
     "text": [
      "[inf, inf, inf, inf, inf, inf]\n"
     ]
    }
   ],
   "source": [
    "print([float('inf')]*6)"
   ]
  },
  {
   "cell_type": "code",
   "execution_count": 20,
   "id": "504f4a4f",
   "metadata": {},
   "outputs": [
    {
     "data": {
      "text/plain": [
       "inf"
      ]
     },
     "execution_count": 20,
     "metadata": {},
     "output_type": "execute_result"
    }
   ],
   "source": [
    "float('inf')"
   ]
  },
  {
   "cell_type": "code",
   "execution_count": null,
   "id": "2de3a140",
   "metadata": {},
   "outputs": [],
   "source": []
  }
 ],
 "metadata": {
  "kernelspec": {
   "display_name": "Python 3 (ipykernel)",
   "language": "python",
   "name": "python3"
  },
  "language_info": {
   "codemirror_mode": {
    "name": "ipython",
    "version": 3
   },
   "file_extension": ".py",
   "mimetype": "text/x-python",
   "name": "python",
   "nbconvert_exporter": "python",
   "pygments_lexer": "ipython3",
   "version": "3.9.5"
  }
 },
 "nbformat": 4,
 "nbformat_minor": 5
}
