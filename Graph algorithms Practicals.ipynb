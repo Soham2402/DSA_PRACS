{
 "cells": [
  {
   "cell_type": "markdown",
   "id": "59296eac",
   "metadata": {},
   "source": [
    "Tree is a collection of entities called nodes linked together to form a hierarchy. It is a non linear data structure, top most node is called a root. \n",
    "Graph is a collection of vertices/nodes and edges. Each node can have any number of edges. It is a non linear ds\n",
    "\n",
    " All trees are graphs. Infact a tree can be said to be a special kind of graph"
   ]
  },
  {
   "cell_type": "markdown",
   "id": "2fa73021",
   "metadata": {},
   "source": [
    "# Minimum spanning tree"
   ]
  },
  {
   "cell_type": "markdown",
   "id": "654b775b",
   "metadata": {},
   "source": [
    "In graph theory, a minimum spanning tree (MST) is a subset of the edges of a connected, undirected graph that connects all the vertices together, without any cycles and with the minimum possible total edge weight.\n",
    "\n",
    "The concept of a minimum spanning tree is useful for finding the least expensive way to connect all the nodes in a graph. For example, in a network of computers, a minimum spanning tree would represent the set of connections that would allow all the computers to communicate with each other at the lowest cost.\n",
    "\n",
    "There are several algorithms that can be used to find the minimum spanning tree of a graph, including Kruskal's algorithm and Prim's algorithm. These algorithms typically involve sorting the edges of the graph by weight and then adding them to the MST in a specific order, until all the vertices are connected.\n",
    "\n",
    "It is important to note that there may be multiple minimum spanning trees for a given graph, as there may be multiple sets of edges that achieve the minimum total weight."
   ]
  },
  {
   "cell_type": "code",
   "execution_count": 6,
   "id": "e8348d46",
   "metadata": {},
   "outputs": [
    {
     "name": "stdout",
     "output_type": "stream",
     "text": [
      "{'Mumbai': ['Paris', 'Dubai'], 'Paris': ['Dubai', 'New York'], 'Dubai': ['New York'], 'New York': ['Toronto']}\n",
      "[['Mumbai', 'Paris', 'Dubai', 'New York'], ['Mumbai', 'Paris', 'New York'], ['Mumbai', 'Dubai', 'New York']]\n"
     ]
    }
   ],
   "source": [
    "class Graph:\n",
    "    def __init__(self,edges):\n",
    "        self.edges = edges\n",
    "        self.graph_dict = {}\n",
    "        #Here we are converting the input in the form of a graph.Just comment out the print statement to get a better idea\n",
    "        for start, end in self.edges: \n",
    "            if start in self.graph_dict:\n",
    "                self.graph_dict[start].append(end)\n",
    "            else:\n",
    "                self.graph_dict[start] = [end]\n",
    "        print(self.graph_dict)\n",
    "\n",
    "    def get_path(self,start,end,path = []):\n",
    "        path = path + [start]\n",
    "        \n",
    "        #Graphs are recursive, when u build a recursive function always use the most simplest case\n",
    "        #Here the simplest case would be if the start and end destination node being the same.\n",
    "        if start == end:\n",
    "            return [path]\n",
    "        \n",
    "        # The second edge case will be what if the start does not exist \n",
    "        if start not in self.graph_dict:\n",
    "            return []\n",
    "        \n",
    "        all_paths = []\n",
    "        for node in self.graph_dict[start]:\n",
    "            if node not in path:\n",
    "                new_path = self.get_path(node,end,path)\n",
    "            for p in new_path:\n",
    "                all_paths.append(p)\n",
    "            \n",
    "        return all_paths\n",
    "        \n",
    "        \n",
    "        \n",
    "if __name__ == \"__main__\":\n",
    "    routes =   [(\"Mumbai\", \"Paris\") ,\n",
    "                (\"Mumbai\", \"Dubai\"),\n",
    "                (\"Paris\", \"Dubai\"),\n",
    "                (\"Paris\", \"New York\"),\n",
    "                (\"Dubai\", \"New York\"),\n",
    "                (\"New York\", \"Toronto\")\n",
    "    ]\n",
    "    \n",
    "# Creating a graph object\n",
    "route_graph = Graph(routes)\n",
    "start = \"Mumbai\"\n",
    "end = \"New York\"\n",
    "print(route_graph.get_path(start,end))"
   ]
  },
  {
   "cell_type": "markdown",
   "id": "a76cb4f3",
   "metadata": {},
   "source": [
    "Merge sort \n",
    "Insertion sort \n",
    "Prims algorithm \n",
    "Knapsack problem\n",
    "Bellman Ford \n",
    "Travelling salesman"
   ]
  },
  {
   "cell_type": "markdown",
   "id": "c15ebc05",
   "metadata": {},
   "source": [
    "# Bellman ford algorithm"
   ]
  },
  {
   "cell_type": "code",
   "execution_count": 14,
   "id": "5bd76e18",
   "metadata": {},
   "outputs": [
    {
     "name": "stdout",
     "output_type": "stream",
     "text": [
      "{'A': 0, 'B': -2, 'C': 8, 'D': 5}\n"
     ]
    }
   ],
   "source": [
    "def edges(graph):\n",
    "    # Initialize an empty list of edges\n",
    "    edges = []\n",
    "\n",
    "    # Iterate over the graph and add the edges to the list\n",
    "    for source, neighbors in graph.items():\n",
    "        for destination, weight in neighbors:\n",
    "            edges.append((source, destination, weight))\n",
    "\n",
    "    return edges\n",
    "\n",
    "def bellman_ford(graph, source):\n",
    "    # Initialize the distance to all nodes as infinity, except for the source node\n",
    "    distances = {node: float('inf') for node in graph}\n",
    "    distances[source] = 0\n",
    "\n",
    "    # Iterate over the graph n - 1 times\n",
    "    for i in range(len(graph) - 1):\n",
    "        # Relax the distance estimates for all edges in the graph\n",
    "        for u, v, weight in edges(graph):\n",
    "            if distances[u] + weight < distances[v]:\n",
    "                distances[v] = distances[u] + weight\n",
    "\n",
    "    # Check for negative-weight cycles\n",
    "    for u, v, weight in edges(graph):\n",
    "        if distances[u] + weight < distances[v]:\n",
    "            raise ValueError(\"Graph contains a negative-weight cycle\")\n",
    "\n",
    "    return distances\n",
    "graph = {\n",
    "    'A': [('B', 4),('D',5)],\n",
    "    'B': [],\n",
    "    'C': [('B', -10)],\n",
    "    'D': [('C',3)]\n",
    "}\n",
    "\n",
    "source = 'A'\n",
    "\n",
    "distances = bellman_ford(graph, source)\n",
    "print(distances)\n"
   ]
  },
  {
   "cell_type": "code",
   "execution_count": 18,
   "id": "ed93a33b",
   "metadata": {},
   "outputs": [
    {
     "name": "stdout",
     "output_type": "stream",
     "text": [
      "dict_items([('A', [('B', 10), ('C', 3)]), ('B', [('C', 1), ('D', 2)]), ('C', [('B', 4), ('D', 8), ('E', 2)]), ('D', [('E', 7)]), ('E', [])])\n",
      "[('A', 'B', 10), ('A', 'C', 3), ('B', 'C', 1), ('B', 'D', 2), ('C', 'B', 4), ('C', 'D', 8), ('C', 'E', 2), ('D', 'E', 7)]\n"
     ]
    }
   ],
   "source": [
    "graph = {\n",
    "    'A': [('B', 10), ('C', 3)],\n",
    "    'B': [('C', 1), ('D', 2)],\n",
    "    'C': [('B', 4), ('D', 8), ('E', 2)],\n",
    "    'D': [('E', 7)],\n",
    "    'E': []\n",
    "}\n",
    "\n",
    "print(graph.items())\n",
    "\n",
    "def edges(graph):\n",
    "    edges = []\n",
    "    \n",
    "    for source, nodes in graph.items():\n",
    "        for item,weight in nodes:\n",
    "            edges.append((source,item,weight))\n",
    "    \n",
    "    print(edges)\n",
    "            \n",
    "edges(graph)"
   ]
  },
  {
   "cell_type": "code",
   "execution_count": 19,
   "id": "15193c20",
   "metadata": {},
   "outputs": [
    {
     "name": "stdout",
     "output_type": "stream",
     "text": [
      "[('A', 'B', 4), ('A', 'D', 5), ('C', 'B', -10), ('D', 'C', 3)]\n"
     ]
    },
    {
     "ename": "TypeError",
     "evalue": "'NoneType' object is not iterable",
     "output_type": "error",
     "traceback": [
      "\u001b[1;31m---------------------------------------------------------------------------\u001b[0m",
      "\u001b[1;31mTypeError\u001b[0m                                 Traceback (most recent call last)",
      "\u001b[1;32m~\\AppData\\Local\\Temp/ipykernel_2180/3927497846.py\u001b[0m in \u001b[0;36m<module>\u001b[1;34m\u001b[0m\n\u001b[0;32m     25\u001b[0m \u001b[0msource\u001b[0m \u001b[1;33m=\u001b[0m \u001b[1;34m'A'\u001b[0m\u001b[1;33m\u001b[0m\u001b[1;33m\u001b[0m\u001b[0m\n\u001b[0;32m     26\u001b[0m \u001b[1;33m\u001b[0m\u001b[0m\n\u001b[1;32m---> 27\u001b[1;33m \u001b[0mdistances\u001b[0m \u001b[1;33m=\u001b[0m \u001b[0mbellman_ford\u001b[0m\u001b[1;33m(\u001b[0m\u001b[0mgraph\u001b[0m\u001b[1;33m,\u001b[0m \u001b[0msource\u001b[0m\u001b[1;33m)\u001b[0m\u001b[1;33m\u001b[0m\u001b[1;33m\u001b[0m\u001b[0m\n\u001b[0m\u001b[0;32m     28\u001b[0m \u001b[0mprint\u001b[0m\u001b[1;33m(\u001b[0m\u001b[0mdistances\u001b[0m\u001b[1;33m)\u001b[0m\u001b[1;33m\u001b[0m\u001b[1;33m\u001b[0m\u001b[0m\n",
      "\u001b[1;32m~\\AppData\\Local\\Temp/ipykernel_2180/1480024124.py\u001b[0m in \u001b[0;36mbellman_ford\u001b[1;34m(graph, source)\u001b[0m\n\u001b[0;32m     18\u001b[0m     \u001b[1;32mfor\u001b[0m \u001b[0mi\u001b[0m \u001b[1;32min\u001b[0m \u001b[0mrange\u001b[0m\u001b[1;33m(\u001b[0m\u001b[0mlen\u001b[0m\u001b[1;33m(\u001b[0m\u001b[0mgraph\u001b[0m\u001b[1;33m)\u001b[0m \u001b[1;33m-\u001b[0m \u001b[1;36m1\u001b[0m\u001b[1;33m)\u001b[0m\u001b[1;33m:\u001b[0m\u001b[1;33m\u001b[0m\u001b[1;33m\u001b[0m\u001b[0m\n\u001b[0;32m     19\u001b[0m         \u001b[1;31m# Relax the distance estimates for all edges in the graph\u001b[0m\u001b[1;33m\u001b[0m\u001b[1;33m\u001b[0m\u001b[1;33m\u001b[0m\u001b[0m\n\u001b[1;32m---> 20\u001b[1;33m         \u001b[1;32mfor\u001b[0m \u001b[0mu\u001b[0m\u001b[1;33m,\u001b[0m \u001b[0mv\u001b[0m\u001b[1;33m,\u001b[0m \u001b[0mweight\u001b[0m \u001b[1;32min\u001b[0m \u001b[0medges\u001b[0m\u001b[1;33m(\u001b[0m\u001b[0mgraph\u001b[0m\u001b[1;33m)\u001b[0m\u001b[1;33m:\u001b[0m\u001b[1;33m\u001b[0m\u001b[1;33m\u001b[0m\u001b[0m\n\u001b[0m\u001b[0;32m     21\u001b[0m             \u001b[1;32mif\u001b[0m \u001b[0mdistances\u001b[0m\u001b[1;33m[\u001b[0m\u001b[0mu\u001b[0m\u001b[1;33m]\u001b[0m \u001b[1;33m+\u001b[0m \u001b[0mweight\u001b[0m \u001b[1;33m<\u001b[0m \u001b[0mdistances\u001b[0m\u001b[1;33m[\u001b[0m\u001b[0mv\u001b[0m\u001b[1;33m]\u001b[0m\u001b[1;33m:\u001b[0m\u001b[1;33m\u001b[0m\u001b[1;33m\u001b[0m\u001b[0m\n\u001b[0;32m     22\u001b[0m                 \u001b[0mdistances\u001b[0m\u001b[1;33m[\u001b[0m\u001b[0mv\u001b[0m\u001b[1;33m]\u001b[0m \u001b[1;33m=\u001b[0m \u001b[0mdistances\u001b[0m\u001b[1;33m[\u001b[0m\u001b[0mu\u001b[0m\u001b[1;33m]\u001b[0m \u001b[1;33m+\u001b[0m \u001b[0mweight\u001b[0m\u001b[1;33m\u001b[0m\u001b[1;33m\u001b[0m\u001b[0m\n",
      "\u001b[1;31mTypeError\u001b[0m: 'NoneType' object is not iterable"
     ]
    }
   ],
   "source": [
    "def bellman(graph,source):\n",
    "    distances = {i: float(inf) for i in graph}\n",
    "    distances[source] = 0\n",
    "    for i in range(len(graph)-1):\n",
    "        for parent, edge in graph.items():\n",
    "            for items in edge:\n",
    "                if distances[parent] + item[1] < distances[item[0]]:\n",
    "                    distances[item[0]] = distances[parent] + item[1]\n",
    "                \n",
    "    for parent, edge in graph.items():\n",
    "        for items in edge:\n",
    "            if distances[parent] + item[1] < distances[item[0]]:\n",
    "                raise ValueError(\"Negative cycle exists\")\n",
    "                \n",
    "                \n",
    "    return distances\n",
    "                \n",
    "graph = {\n",
    "    'A': [('B', 4),('D',5)],\n",
    "    'B': [],\n",
    "    'C': [('B', -10)],\n",
    "    'D': [('C',3)]\n",
    "}\n",
    "\n",
    "source = 'A'\n",
    "\n",
    "distances = bellma(graph, source)\n",
    "print(distances)"
   ]
  },
  {
   "cell_type": "code",
   "execution_count": null,
   "id": "8e50400a",
   "metadata": {},
   "outputs": [],
   "source": []
  }
 ],
 "metadata": {
  "kernelspec": {
   "display_name": "Python 3 (ipykernel)",
   "language": "python",
   "name": "python3"
  },
  "language_info": {
   "codemirror_mode": {
    "name": "ipython",
    "version": 3
   },
   "file_extension": ".py",
   "mimetype": "text/x-python",
   "name": "python",
   "nbconvert_exporter": "python",
   "pygments_lexer": "ipython3",
   "version": "3.9.5"
  }
 },
 "nbformat": 4,
 "nbformat_minor": 5
}
