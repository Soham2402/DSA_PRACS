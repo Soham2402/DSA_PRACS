{
 "cells": [
  {
   "cell_type": "markdown",
   "id": "59296eac",
   "metadata": {},
   "source": [
    "Tree is a collection of entities called nodes linked together to form a hierarchy. It is a non linear data structure, top most node is called a root. \n",
    "Graph is a collection of vertices/nodes and edges. Each node can have any number of edges. It is a non linear ds\n",
    "\n",
    " All trees are graphs. Infact a tree can be said to be a special kind of graph"
   ]
  },
  {
   "cell_type": "markdown",
   "id": "2fa73021",
   "metadata": {},
   "source": [
    "# Minimum spanning tree"
   ]
  },
  {
   "cell_type": "markdown",
   "id": "654b775b",
   "metadata": {},
   "source": [
    "In graph theory, a minimum spanning tree (MST) is a subset of the edges of a connected, undirected graph that connects all the vertices together, without any cycles and with the minimum possible total edge weight.\n",
    "\n",
    "The concept of a minimum spanning tree is useful for finding the least expensive way to connect all the nodes in a graph. For example, in a network of computers, a minimum spanning tree would represent the set of connections that would allow all the computers to communicate with each other at the lowest cost.\n",
    "\n",
    "There are several algorithms that can be used to find the minimum spanning tree of a graph, including Kruskal's algorithm and Prim's algorithm. These algorithms typically involve sorting the edges of the graph by weight and then adding them to the MST in a specific order, until all the vertices are connected.\n",
    "\n",
    "It is important to note that there may be multiple minimum spanning trees for a given graph, as there may be multiple sets of edges that achieve the minimum total weight."
   ]
  },
  {
   "cell_type": "code",
   "execution_count": 6,
   "id": "e8348d46",
   "metadata": {},
   "outputs": [
    {
     "name": "stdout",
     "output_type": "stream",
     "text": [
      "{'Mumbai': ['Paris', 'Dubai'], 'Paris': ['Dubai', 'New York'], 'Dubai': ['New York'], 'New York': ['Toronto']}\n",
      "[['Mumbai', 'Paris', 'Dubai', 'New York'], ['Mumbai', 'Paris', 'New York'], ['Mumbai', 'Dubai', 'New York']]\n"
     ]
    }
   ],
   "source": [
    "class Graph:\n",
    "    def __init__(self,edges):\n",
    "        self.edges = edges\n",
    "        self.graph_dict = {}\n",
    "        #Here we are converting the input in the form of a graph.Just comment out the print statement to get a better idea\n",
    "        for start, end in self.edges: \n",
    "            if start in self.graph_dict:\n",
    "                self.graph_dict[start].append(end)\n",
    "            else:\n",
    "                self.graph_dict[start] = [end]\n",
    "        print(self.graph_dict)\n",
    "\n",
    "    def get_path(self,start,end,path = []):\n",
    "        path = path + [start]\n",
    "        \n",
    "        #Graphs are recursive, when u build a recursive function always use the most simplest case\n",
    "        #Here the simplest case would be if the start and end destination node being the same.\n",
    "        if start == end:\n",
    "            return [path]\n",
    "        \n",
    "        # The second edge case will be what if the start does not exist \n",
    "        if start not in self.graph_dict:\n",
    "            return []\n",
    "        \n",
    "        all_paths = []\n",
    "        for node in self.graph_dict[start]:\n",
    "            if node not in path:\n",
    "                new_path = self.get_path(node,end,path)\n",
    "            for p in new_path:\n",
    "                all_paths.append(p)\n",
    "            \n",
    "        return all_paths\n",
    "        \n",
    "        \n",
    "        \n",
    "if __name__ == \"__main__\":\n",
    "    routes =   [(\"Mumbai\", \"Paris\") ,\n",
    "                (\"Mumbai\", \"Dubai\"),\n",
    "                (\"Paris\", \"Dubai\"),\n",
    "                (\"Paris\", \"New York\"),\n",
    "                (\"Dubai\", \"New York\"),\n",
    "                (\"New York\", \"Toronto\")\n",
    "    ]\n",
    "    \n",
    "# Creating a graph object\n",
    "route_graph = Graph(routes)\n",
    "start = \"Mumbai\"\n",
    "end = \"New York\"\n",
    "print(route_graph.get_path(start,end))"
   ]
  },
  {
   "cell_type": "markdown",
   "id": "a76cb4f3",
   "metadata": {},
   "source": [
    "Merge sort \n",
    "Insertion sort \n",
    "Prims algorithm \n",
    "Knapsack problem\n",
    "Bellman Ford \n",
    "Travelling salesman"
   ]
  },
  {
   "cell_type": "markdown",
   "id": "c15ebc05",
   "metadata": {},
   "source": [
    "# Bellman ford algorithm"
   ]
  },
  {
   "cell_type": "code",
   "execution_count": 54,
   "id": "5bd76e18",
   "metadata": {
    "scrolled": true
   },
   "outputs": [
    {
     "name": "stdout",
     "output_type": "stream",
     "text": [
      "{'A': 0, 'B': inf, 'C': inf, 'D': inf}\n",
      "[('A', 'B', 4), ('A', 'D', 5), ('C', 'B', -10), ('D', 'C', 3)]\n",
      "[('A', 'B', 4), ('A', 'D', 5), ('C', 'B', -10), ('D', 'C', 3)]\n",
      "{'A': 0, 'B': -2, 'C': 8, 'D': 5}\n"
     ]
    }
   ],
   "source": [
    "def edges(graph):\n",
    "    # Initialize an empty list of edges\n",
    "    edges = []\n",
    "    # Iterate over the graph and add the edges to the list\n",
    "    for source, neighbors in graph.items():\n",
    "        for destination, weight in neighbors:\n",
    "            edges.append((source, destination, weight))\n",
    "    print(edges)\n",
    "    return edges\n",
    "\n",
    "def bellman_ford(graph, source):\n",
    "    # Initialize the distance to all nodes as infinity, except for the source node\n",
    "    distances = {node: float('inf') for node in graph}\n",
    "    distances[source] = 0\n",
    "    print(distances)\n",
    "    x = edges(graph)\n",
    "    # Iterate over the graph n - 1 times\n",
    "    for i in range(len(graph) - 1):\n",
    "        # Relax the distance estimates for all edges in the graph\n",
    "        for u, v, weight in x:\n",
    "            if distances[u] + weight < distances[v]:\n",
    "                distances[v] = distances[u] + weight\n",
    "\n",
    "    # Check for negative-weight cycles\n",
    "    for u, v, weight in edges(graph):\n",
    "        if distances[u] + weight < distances[v]:\n",
    "            raise ValueError(\"Graph contains a negative-weight cycle\")\n",
    "\n",
    "    return distances\n",
    "graph = {\n",
    "    'A': [('B', 4),('D',5)],\n",
    "    'B': [],\n",
    "    'C': [('B', -10)],\n",
    "    'D': [('C',3)]\n",
    "}\n",
    "\n",
    "source = 'A'\n",
    "\n",
    "distances = bellman_ford(graph, source)\n",
    "print(distances)\n"
   ]
  },
  {
   "cell_type": "markdown",
   "id": "764e9858",
   "metadata": {},
   "source": [
    "# Bellman ford method 2"
   ]
  },
  {
   "cell_type": "code",
   "execution_count": 45,
   "id": "f5c7b183",
   "metadata": {},
   "outputs": [
    {
     "name": "stdout",
     "output_type": "stream",
     "text": [
      "{'A': inf, 'B': inf, 'C': inf, 'D': inf}\n",
      "0 4 inf\n",
      "0 5 inf\n",
      "5 3 inf\n",
      "8 -10 4\n",
      "{'A': 0, 'B': -2, 'C': 8, 'D': 5}\n"
     ]
    }
   ],
   "source": [
    "def bellman(graph,source):\n",
    "    \n",
    "    #Assigning distances of ininity to every node\n",
    "    distances = {i: float('inf') for i in graph}\n",
    "    print(distances)\n",
    "    distances[source] = 0 #Weight of source node is 0\n",
    "    for i in range(len(graph)-1): #the maximum number of iterations can be n-1\n",
    "        for parent, edge in graph.items():\n",
    "            for item in edge:\n",
    "                if distances[parent] + item[1] < distances[item[0]]:\n",
    "                    distances[item[0]] = distances[parent] + item[1]\n",
    "       \n",
    "    #If the weight still changes that means there is a cycle\n",
    "    for parent, edge in graph.items():\n",
    "        for item in edge:\n",
    "            if distances[parent] + item[1] < distances[item[0]]:\n",
    "                raise ValueError(\"Negative cycle exists\")\n",
    "                \n",
    "                \n",
    "    return distances\n",
    "                \n",
    "graph = {\n",
    "    'A': [('B', 4),('D',5)],\n",
    "    'B': [],\n",
    "    'C': [('B', -10)],\n",
    "    'D': [('C',3)]\n",
    "}\n",
    "\n",
    "source = 'A'\n",
    "\n",
    "distances = bellman(graph, source)\n",
    "print(distances)"
   ]
  },
  {
   "cell_type": "markdown",
   "id": "8fb0c5d0",
   "metadata": {},
   "source": [
    "# Knapsack algorithm"
   ]
  },
  {
   "cell_type": "code",
   "execution_count": 57,
   "id": "40e40e56",
   "metadata": {},
   "outputs": [
    {
     "name": "stdout",
     "output_type": "stream",
     "text": [
      "{1.3333333333333333: (24, 18), 1.6666666666666667: (25, 15), 0.75: (15, 20)}\n",
      "{'Max Weight': 20.0, 'Max_profit': 31.666666666666668, 'Selected weights': [15, 18]}\n"
     ]
    }
   ],
   "source": [
    "def fract_knapsacl(profit_list,weight_list,max_weight):\n",
    "    n = len(weight_list)\n",
    "    \n",
    "    curr_weight = 0\n",
    "    curr_power = 0\n",
    "    sel_profits = []\n",
    "    \n",
    "    # First calculating the profit by weight density and storing them in an array\n",
    "    profit_density = [profit_list[i]/weight_list[i] for i in range(0,n)]\n",
    " \n",
    "    profit_weight_dict = {}\n",
    "    #Creating a dictionary with all the values in the form profit_densit:(profit_list,profit_weight)\n",
    "    for i in range(0,n):\n",
    "        profit_weight_dict[profit_density[i]] = (profit_list[i],weight_list[i])\n",
    "    print(profit_weight_dict)\n",
    "    # sorting our profit list and weight list according to the density\n",
    "    profit_list = []\n",
    "    weight_list = []\n",
    "    index = list(profit_weight_dict.keys()) #this converts the dict keys into an array\n",
    "        \n",
    "    for i in range(0,n):\n",
    "        x = max(index)\n",
    "        profit_list.append(profit_weight_dict[x][0])\n",
    "        weight_list.append(profit_weight_dict[x][1])\n",
    "        index.remove(x)\n",
    "    #now sorting ou\n",
    "\n",
    "    for i in range(0,n):\n",
    "        if curr_weight+weight_list[i] > max_weight:\n",
    "            #now find the fractional weight\n",
    "            fract = (max_weight-curr_weight)/weight_list[i]\n",
    "            curr_weight = curr_weight+weight_list[i]*fract\n",
    "            curr_power = curr_power + profit_list[i]*fract\n",
    "            sel_profits.append(weight_list[i])\n",
    "            break\n",
    "            \n",
    "        elif curr_weight+weight_list[i] <= max_weight:\n",
    "            curr_weight = curr_weight+weight_list[i]\n",
    "            curr_power = curr_power + profit_list[i]\n",
    "            sel_profits.append(weight_list[i])\n",
    "            \n",
    "    return {\"Max Weight\":curr_weight,\"Max_profit\":curr_power,\"Selected weights\":sel_profits}\n",
    "x = fract_knapsacl([24,25,15],[18,15,20],20)\n",
    "print(x)"
   ]
  },
  {
   "cell_type": "code",
   "execution_count": 59,
   "id": "be5824fc",
   "metadata": {},
   "outputs": [
    {
     "data": {
      "text/plain": [
       "[1, 2]"
      ]
     },
     "execution_count": 59,
     "metadata": {},
     "output_type": "execute_result"
    }
   ],
   "source": [
    "a = {1:\"b\",2:\"c\"}\n",
    "list(a.keys())"
   ]
  },
  {
   "cell_type": "markdown",
   "id": "e832e670",
   "metadata": {},
   "source": [
    "# Prims algorithm\n",
    "\n",
    "https://www.youtube.com/watch?v=xM6h_g1j77k <---- follow this video to understand the code"
   ]
  },
  {
   "cell_type": "code",
   "execution_count": 42,
   "id": "76f88f33",
   "metadata": {},
   "outputs": [
    {
     "name": "stdout",
     "output_type": "stream",
     "text": [
      "Edge : Weight\n",
      "\n",
      "0-1:9\n",
      "1-3:19\n",
      "3-4:31\n",
      "3-2:51\n"
     ]
    }
   ],
   "source": [
    "INF = float('inf')\n",
    "# number of vertices in graph\n",
    "V = 5\n",
    "# create a 2d array of size 5x5\n",
    "# for adjacency matrix to represent graph\n",
    "G = [[0, 9, 75, 0, 0],\n",
    "     [9, 0, 95, 19, 42],\n",
    "     [75, 95, 0, 51, 66],\n",
    "     [0, 19, 51, 0, 31],\n",
    "     [0, 42, 66, 31, 0]]\n",
    "# create a array to track selected vertex\n",
    "# selected will become true otherwise false\n",
    "selected = [0, 0, 0, 0, 0]\n",
    "# set number of edge to 0\n",
    "no_edge = 0\n",
    "# the number of egde in minimum spanning tree will be\n",
    "# always less than(V - 1), where V is number of vertices in\n",
    "# graph\n",
    "# choose 0th vertex and make it true\n",
    "selected[0] = True\n",
    "# print for edge and weight\n",
    "print(\"Edge : Weight\\n\")\n",
    "while (no_edge < V - 1):\n",
    "    # For every vertex in the set S, find the all adjacent vertices\n",
    "    #, calculate the distance from the vertex selected at step 1.\n",
    "    # if the vertex is already in the set S, discard it otherwise\n",
    "    # choose another vertex nearest to selected vertex  at step 1.\n",
    "    minimum = INF\n",
    "    x = 0\n",
    "    y = 0\n",
    "    for i in range(V):\n",
    "        if selected[i]:\n",
    "            for j in range(V):\n",
    "                if ((not selected[j]) and G[i][j]):  \n",
    "                    # not in selected and there is an edge\n",
    "                    if minimum > G[i][j]:\n",
    "                        minimum = G[i][j]\n",
    "                        x = i\n",
    "                        y = j\n",
    "    print(str(x) + \"-\" + str(y) + \":\" + str(G[x][y]))\n",
    "    selected[y] = True\n",
    "    no_edge += 1"
   ]
  },
  {
   "cell_type": "markdown",
   "id": "51de49d2",
   "metadata": {},
   "source": [
    "# Traveling salesman"
   ]
  },
  {
   "cell_type": "code",
   "execution_count": 50,
   "id": "c1b1a7c9",
   "metadata": {},
   "outputs": [
    {
     "name": "stdout",
     "output_type": "stream",
     "text": [
      "[1]\n",
      "[1, 2]\n",
      "[1, 2, 3]\n",
      "The minimum cost is: 80\n"
     ]
    }
   ],
   "source": [
    "import itertools\n",
    "\n",
    "def TSP_Implement(Adj_matrix, s):\n",
    "    cities = []\n",
    "    for i in range(V):\n",
    "        if i != s:\n",
    "            cities.append(i)\n",
    "            print(cities)\n",
    "\n",
    "        min_distance = float('inf')\n",
    "        for perm in itertools.permutations(cities):\n",
    "            curr_distance = 0\n",
    "            k = s\n",
    "            for i in range(len(cities)):\n",
    "                curr_distance += Adj_matrix[k][perm[i]]\n",
    "                k = perm[i]\n",
    "            curr_distance += Adj_matrix[k][s]\n",
    "            min_distance = min(min_distance, curr_distance)\n",
    "\n",
    "    return min_distance\n",
    "\n",
    "V = 4\n",
    "Adj_matrix = [[0, 10, 15, 20], [10, 0, 35, 25], [15, 35, 0, 30], [20, 25, 30, 0]]\n",
    "start = 0\n",
    "print(\"The minimum cost is:\", TSP_Implement(Adj_matrix, start))"
   ]
  },
  {
   "cell_type": "code",
   "execution_count": null,
   "id": "e3fab923",
   "metadata": {},
   "outputs": [],
   "source": []
  }
 ],
 "metadata": {
  "kernelspec": {
   "display_name": "Python 3 (ipykernel)",
   "language": "python",
   "name": "python3"
  },
  "language_info": {
   "codemirror_mode": {
    "name": "ipython",
    "version": 3
   },
   "file_extension": ".py",
   "mimetype": "text/x-python",
   "name": "python",
   "nbconvert_exporter": "python",
   "pygments_lexer": "ipython3",
   "version": "3.9.5"
  }
 },
 "nbformat": 4,
 "nbformat_minor": 5
}
