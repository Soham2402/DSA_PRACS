{
 "cells": [
  {
   "cell_type": "markdown",
   "id": "bca26b92",
   "metadata": {},
   "source": [
    "# Reverse bits\n",
    "Reverse bits of a given 32 bits unsigned integer.\n",
    "\n",
    "\n",
    "Example 1:\n",
    "\n",
    "Input: n = 00000010100101000001111010011100\n",
    "Output:    964176192 (00111001011110000010100101000000)\n",
    "Explanation: The input binary string 00000010100101000001111010011100 represents the unsigned integer 43261596, so return 964176192 which its binary representation is 00111001011110000010100101000000.\n",
    "\n",
    "Example 2:\n",
    "\n",
    "Input: n = 11111111111111111111111111111101\n",
    "Output:   3221225471 (10111111111111111111111111111111)\n",
    "Explanation: The input binary string 11111111111111111111111111111101 represents the unsigned integer 4294967293, so return 3221225471 which its binary representation is 10111111111111111111111111111111.\n"
   ]
  },
  {
   "cell_type": "code",
   "execution_count": 21,
   "id": "1144fc33",
   "metadata": {},
   "outputs": [
    {
     "ename": "SyntaxError",
     "evalue": "leading zeros in decimal integer literals are not permitted; use an 0o prefix for octal integers (1226454118.py, line 8)",
     "output_type": "error",
     "traceback": [
      "\u001b[0;36m  Cell \u001b[0;32mIn[21], line 8\u001b[0;36m\u001b[0m\n\u001b[0;31m    reverse(0123451)\u001b[0m\n\u001b[0m            ^\u001b[0m\n\u001b[0;31mSyntaxError\u001b[0m\u001b[0;31m:\u001b[0m leading zeros in decimal integer literals are not permitted; use an 0o prefix for octal integers\n"
     ]
    }
   ],
   "source": [
    "def reverse(n:int):\n",
    "    n = str(n)\n",
    "    print(type(n))\n",
    "    binary_list = [n[i] for i in range(len(n),-1)]\n",
    "    print(binary_list)\n",
    "    \n",
    "    \n",
    "reverse(0123451)"
   ]
  },
  {
   "cell_type": "code",
   "execution_count": 12,
   "id": "c8bc97b7",
   "metadata": {},
   "outputs": [
    {
     "data": {
      "text/plain": [
       "'0000101'"
      ]
     },
     "execution_count": 12,
     "metadata": {},
     "output_type": "execute_result"
    }
   ],
   "source": [
    "ini.strip('')"
   ]
  },
  {
   "cell_type": "code",
   "execution_count": null,
   "id": "19fdc64b",
   "metadata": {},
   "outputs": [],
   "source": []
  }
 ],
 "metadata": {
  "kernelspec": {
   "display_name": "Python 3 (ipykernel)",
   "language": "python",
   "name": "python3"
  },
  "language_info": {
   "codemirror_mode": {
    "name": "ipython",
    "version": 3
   },
   "file_extension": ".py",
   "mimetype": "text/x-python",
   "name": "python",
   "nbconvert_exporter": "python",
   "pygments_lexer": "ipython3",
   "version": "3.10.12"
  }
 },
 "nbformat": 4,
 "nbformat_minor": 5
}
