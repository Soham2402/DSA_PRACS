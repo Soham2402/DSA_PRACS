{
 "cells": [
  {
   "cell_type": "markdown",
   "id": "efcf06ce",
   "metadata": {},
   "source": [
    "# Selection sort"
   ]
  },
  {
   "cell_type": "code",
   "execution_count": 74,
   "id": "061ea359",
   "metadata": {},
   "outputs": [
    {
     "name": "stdout",
     "output_type": "stream",
     "text": [
      "Enter the size of the desired array: 5\n",
      "Enter element of index 0: 4\n",
      "Enter element of index 1: 8\n",
      "Enter element of index 2: 6\n",
      "Enter element of index 3: 3\n",
      "Enter element of index 4: 9\n",
      "[3, 4, 6, 8, 9]\n",
      "[3, 4, 6, 8, 9]\n"
     ]
    }
   ],
   "source": [
    "def swap(arr,swap_index,min_index):\n",
    "    temp = arr[swap_index]\n",
    "    arr[swap_index] = arr[min_index]\n",
    "    arr[min_index] = temp\n",
    "    return arr\n",
    "\n",
    "def selection_sort(arr):\n",
    "    \n",
    "    #In selecction sort we select the the minimum element from the array and place it first. Now the first index becomes sorted\n",
    "    #In the next pass we will find the next smallest element and place it right next to the previously place element\n",
    "    #Here i represents in the code the number of sorted elements in the array\n",
    "    for i in range(0,len(arr)-1):\n",
    "        min_index = i\n",
    "        min_ele = arr[i]\n",
    "        \n",
    "        #Step 1 select the minimum element from the and its index\n",
    "        for j in range(i,len(arr)):\n",
    "            if(min_ele > arr[j]):\n",
    "                min_ele = arr[j]\n",
    "                min_index = j\n",
    "        #Step 2 Swap the minimum element with the first element of the unsorted part of the array\n",
    "        arr = swap(arr,i,min_index)\n",
    "    print(arr)\n",
    "    return arr\n",
    "        \n",
    "    \n",
    "def main():\n",
    "    arr = []\n",
    "    array_len = int(input(\"Enter the size of the desired array: \"))\n",
    "    for i in range(array_len):\n",
    "        value = int(input(f'Enter element of index {i}: '))\n",
    "        arr.append(value)\n",
    "        \n",
    "    print(selection_sort(arr))\n",
    "if __name__ == '__main__':\n",
    "    main() #time complexity is O(n^2)"
   ]
  },
  {
   "cell_type": "markdown",
   "id": "cee0d897",
   "metadata": {},
   "source": [
    "#  Bubble sort"
   ]
  },
  {
   "cell_type": "code",
   "execution_count": 4,
   "id": "5d17be80",
   "metadata": {},
   "outputs": [
    {
     "data": {
      "text/plain": [
       "[1, 2, 3, 4, 5, 7]"
      ]
     },
     "execution_count": 4,
     "metadata": {},
     "output_type": "execute_result"
    }
   ],
   "source": [
    "def swap(arr,j):\n",
    "    temp = arr[j]\n",
    "    arr[j] = arr[j+1]\n",
    "    arr[j+1] = temp\n",
    "    return arr\n",
    "\n",
    "\n",
    "def bubble_sort(arr):\n",
    "    #In bubble sort the biggest element ascends to the last index.\n",
    "    # Here i reprsents the number of sorted elements in a away\n",
    "    for i in range(0, len(arr)):\n",
    "        # Sometimes the array can be sorted before all the iterations, this checks if thats the case\n",
    "        is_sorted = True\n",
    "        \n",
    "        #Step 1 Select first element and compare it to the next element\n",
    "        # Step 3 keep doing it till you send the greatest element to the end of the array\n",
    "        for j in range(0, len(arr)-i-1):\n",
    "            if(arr[j] > arr[j+1]):\n",
    "                #Step 2 If its greater then swap the position\n",
    "                arr = swap(arr,j)\n",
    "                is_sorted = False\n",
    "        if is_sorted:\n",
    "            return arr\n",
    "    print(arr)\n",
    "    return arr\n",
    "\n",
    "def main():\n",
    "    arr = []\n",
    "    array_len = int(input(\"Enter the size of the desired array: \"))\n",
    "    for i in range(array_len):\n",
    "        value = int(input(f'Enter element of index {i}: '))\n",
    "        arr.append(value)\n",
    "        \n",
    "    print(bubble_sort(arr))\n",
    "if __name__ == '__main__':\n",
    "    main()"
   ]
  },
  {
   "cell_type": "markdown",
   "id": "6712ef71",
   "metadata": {},
   "source": [
    "# MergeSort\n",
    "So in the function mergesort, we first divide our og array till only 1 element is left. Then each array with 1 element is compared with the one besides it and then combined to form a sorted array. Keep doing this recursively we get a completely sorted array with a time complexity of nlogn"
   ]
  },
  {
   "cell_type": "code",
   "execution_count": 73,
   "id": "aa7ffc81",
   "metadata": {},
   "outputs": [
    {
     "name": "stdout",
     "output_type": "stream",
     "text": [
      "Enter the size of the desired array: 4\n",
      "Enter element of index 0: 2\n",
      "Enter element of index 1: 1\n",
      "Enter element of index 2: 0\n",
      "Enter element of index 3: 7\n",
      "[0, 1, 2, 7]\n"
     ]
    }
   ],
   "source": [
    "def merge(left,right,arr):\n",
    "    l = r = k = 0\n",
    "    while(l < len(left) and r < len(right)):\n",
    "        if(left[l] <= right[r]):\n",
    "            arr[k] = left[l]\n",
    "            l = l+1\n",
    "\n",
    "        elif(left[l] >= right[r] ):\n",
    "            arr[k] = right[r]\n",
    "            r = r+1\n",
    "        k = k+1\n",
    "            \n",
    "    while(l < len(left)):\n",
    "        arr[k] = left[l]\n",
    "        k = k+1\n",
    "        l = l+1\n",
    "    while(r < len(right)):\n",
    "            arr[k] = right[r]\n",
    "            k = k+1\n",
    "            r = r+1\n",
    "    return(arr)\n",
    "\n",
    "def mergesort(arr): # divides the array into small chunks.\n",
    "    if len(arr) < 2: #if the array is 1 element long then return, as an array with a single element is sorted always\n",
    "        return arr # Once it is returned, it checks the stack and then executes the next function   \n",
    "    mid = len(arr)//2\n",
    "    left = arr[:mid] # creats an array, left and right, read the example in the cell below to see how this works\n",
    "    right = arr[mid:]\n",
    "    mergesort(left)\n",
    "    mergesort(right)\n",
    "    return merge(left,right,arr)\n",
    "\n",
    "def main():\n",
    "    arr = []\n",
    "    array_len = int(input(\"Enter the size of the desired array: \"))\n",
    "    for i in range(array_len):\n",
    "        value = int(input(f'Enter element of index {i}: '))\n",
    "        arr.append(value)\n",
    "        \n",
    "    print(mergesort(arr))\n",
    "if __name__ == '__main__':\n",
    "    main()\n"
   ]
  },
  {
   "cell_type": "code",
   "execution_count": 64,
   "id": "061c188d",
   "metadata": {},
   "outputs": [
    {
     "name": "stdout",
     "output_type": "stream",
     "text": [
      "[5, 6, 7, 8, 9]\n",
      "[1, 2, 3, 4]\n"
     ]
    }
   ],
   "source": [
    "array = [1,2,3,4,5,6,7,8,9]\n",
    "mid = len(array)//2\n",
    "print(array[mid:])\n",
    "print(array[:mid])"
   ]
  },
  {
   "cell_type": "code",
   "execution_count": null,
   "id": "a456f96d",
   "metadata": {},
   "outputs": [],
   "source": []
  }
 ],
 "metadata": {
  "kernelspec": {
   "display_name": "Python 3 (ipykernel)",
   "language": "python",
   "name": "python3"
  },
  "language_info": {
   "codemirror_mode": {
    "name": "ipython",
    "version": 3
   },
   "file_extension": ".py",
   "mimetype": "text/x-python",
   "name": "python",
   "nbconvert_exporter": "python",
   "pygments_lexer": "ipython3",
   "version": "3.9.5"
  }
 },
 "nbformat": 4,
 "nbformat_minor": 5
}
